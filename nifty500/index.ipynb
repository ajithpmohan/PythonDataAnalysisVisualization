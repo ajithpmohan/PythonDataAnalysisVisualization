{
 "cells": [
  {
   "cell_type": "code",
   "execution_count": 1,
   "metadata": {},
   "outputs": [],
   "source": [
    "import pandas as pd"
   ]
  },
  {
   "cell_type": "code",
   "execution_count": 2,
   "metadata": {},
   "outputs": [],
   "source": [
    "import numpy as np"
   ]
  },
  {
   "cell_type": "code",
   "execution_count": 3,
   "metadata": {},
   "outputs": [],
   "source": [
    "df = pd.read_csv(\"../datasets/nifty_500_quarterly_results.csv\")"
   ]
  },
  {
   "cell_type": "code",
   "execution_count": 4,
   "metadata": {},
   "outputs": [
    {
     "data": {
      "text/plain": [
       "Index(['name', 'NSE_code', 'BSE_code', 'sector', 'industry', 'revenue',\n",
       "       'operating_expenses', 'operating_profit', 'operating_profit_margin',\n",
       "       'depreciation', 'interest', 'profit_before_tax', 'tax', 'net_profit',\n",
       "       'EPS', 'profit_TTM', 'EPS_TTM'],\n",
       "      dtype='object')"
      ]
     },
     "execution_count": 4,
     "metadata": {},
     "output_type": "execute_result"
    }
   ],
   "source": [
    "df.columns"
   ]
  },
  {
   "cell_type": "code",
   "execution_count": 5,
   "metadata": {},
   "outputs": [
    {
     "data": {
      "text/plain": [
       "(501, 17)"
      ]
     },
     "execution_count": 5,
     "metadata": {},
     "output_type": "execute_result"
    }
   ],
   "source": [
    "df.shape"
   ]
  },
  {
   "cell_type": "code",
   "execution_count": 6,
   "metadata": {},
   "outputs": [
    {
     "data": {
      "text/html": [
       "<div>\n",
       "<style scoped>\n",
       "    .dataframe tbody tr th:only-of-type {\n",
       "        vertical-align: middle;\n",
       "    }\n",
       "\n",
       "    .dataframe tbody tr th {\n",
       "        vertical-align: top;\n",
       "    }\n",
       "\n",
       "    .dataframe thead th {\n",
       "        text-align: right;\n",
       "    }\n",
       "</style>\n",
       "<table border=\"1\" class=\"dataframe\">\n",
       "  <thead>\n",
       "    <tr style=\"text-align: right;\">\n",
       "      <th></th>\n",
       "      <th>name</th>\n",
       "      <th>NSE_code</th>\n",
       "      <th>BSE_code</th>\n",
       "      <th>sector</th>\n",
       "      <th>industry</th>\n",
       "      <th>revenue</th>\n",
       "      <th>operating_expenses</th>\n",
       "      <th>operating_profit</th>\n",
       "      <th>operating_profit_margin</th>\n",
       "      <th>depreciation</th>\n",
       "      <th>interest</th>\n",
       "      <th>profit_before_tax</th>\n",
       "      <th>tax</th>\n",
       "      <th>net_profit</th>\n",
       "      <th>EPS</th>\n",
       "      <th>profit_TTM</th>\n",
       "      <th>EPS_TTM</th>\n",
       "    </tr>\n",
       "  </thead>\n",
       "  <tbody>\n",
       "    <tr>\n",
       "      <th>0</th>\n",
       "      <td>3M India Ltd.</td>\n",
       "      <td>3MINDIA</td>\n",
       "      <td>523395</td>\n",
       "      <td>GENERAL INDUSTRIALS</td>\n",
       "      <td>INDUSTRIAL MACHINERY</td>\n",
       "      <td>1,057</td>\n",
       "      <td>847.4</td>\n",
       "      <td>192.1</td>\n",
       "      <td>18.48%</td>\n",
       "      <td>12.9</td>\n",
       "      <td>0.7</td>\n",
       "      <td>195.9</td>\n",
       "      <td>49.8</td>\n",
       "      <td>146.1</td>\n",
       "      <td>129.7</td>\n",
       "      <td>535.9</td>\n",
       "      <td>475.7</td>\n",
       "    </tr>\n",
       "    <tr>\n",
       "      <th>1</th>\n",
       "      <td>ACC Ltd.</td>\n",
       "      <td>ACC</td>\n",
       "      <td>500410</td>\n",
       "      <td>CEMENT AND CONSTRUCTION</td>\n",
       "      <td>CEMENT &amp; CEMENT PRODUCTS</td>\n",
       "      <td>4,644.8</td>\n",
       "      <td>3,885.4</td>\n",
       "      <td>549.3</td>\n",
       "      <td>12.39%</td>\n",
       "      <td>212.8</td>\n",
       "      <td>28.9</td>\n",
       "      <td>517.7</td>\n",
       "      <td>131.5</td>\n",
       "      <td>387.9</td>\n",
       "      <td>20.7</td>\n",
       "      <td>1,202.7</td>\n",
       "      <td>64.0</td>\n",
       "    </tr>\n",
       "    <tr>\n",
       "      <th>2</th>\n",
       "      <td>AIA Engineering Ltd.</td>\n",
       "      <td>AIAENG</td>\n",
       "      <td>532683</td>\n",
       "      <td>GENERAL INDUSTRIALS</td>\n",
       "      <td>OTHER INDUSTRIAL GOODS</td>\n",
       "      <td>1,357.1</td>\n",
       "      <td>912.7</td>\n",
       "      <td>382.1</td>\n",
       "      <td>29.51%</td>\n",
       "      <td>24.5</td>\n",
       "      <td>7.4</td>\n",
       "      <td>412.5</td>\n",
       "      <td>88.4</td>\n",
       "      <td>323.1</td>\n",
       "      <td>34.3</td>\n",
       "      <td>1,216.1</td>\n",
       "      <td>128.9</td>\n",
       "    </tr>\n",
       "    <tr>\n",
       "      <th>3</th>\n",
       "      <td>APL Apollo Tubes Ltd.</td>\n",
       "      <td>APLAPOLLO</td>\n",
       "      <td>533758</td>\n",
       "      <td>METALS &amp; MINING</td>\n",
       "      <td>IRON &amp; STEEL PRODUCTS</td>\n",
       "      <td>4,650</td>\n",
       "      <td>4,305.4</td>\n",
       "      <td>325</td>\n",
       "      <td>7.02%</td>\n",
       "      <td>41.3</td>\n",
       "      <td>26.6</td>\n",
       "      <td>276.7</td>\n",
       "      <td>73.8</td>\n",
       "      <td>202.9</td>\n",
       "      <td>7.3</td>\n",
       "      <td>767.5</td>\n",
       "      <td>27.7</td>\n",
       "    </tr>\n",
       "    <tr>\n",
       "      <th>4</th>\n",
       "      <td>Au Small Finance Bank Ltd.</td>\n",
       "      <td>AUBANK</td>\n",
       "      <td>540611</td>\n",
       "      <td>BANKING AND FINANCE</td>\n",
       "      <td>BANKS</td>\n",
       "      <td>2,956.5</td>\n",
       "      <td>1,026.7</td>\n",
       "      <td>647.7</td>\n",
       "      <td>25.59%</td>\n",
       "      <td>0</td>\n",
       "      <td>1,282.1</td>\n",
       "      <td>533.4</td>\n",
       "      <td>131.5</td>\n",
       "      <td>401.8</td>\n",
       "      <td>6.0</td>\n",
       "      <td>1,606.2</td>\n",
       "      <td>24.0</td>\n",
       "    </tr>\n",
       "  </tbody>\n",
       "</table>\n",
       "</div>"
      ],
      "text/plain": [
       "                         name   NSE_code BSE_code                   sector  \\\n",
       "0               3M India Ltd.    3MINDIA   523395      GENERAL INDUSTRIALS   \n",
       "1                    ACC Ltd.        ACC   500410  CEMENT AND CONSTRUCTION   \n",
       "2        AIA Engineering Ltd.     AIAENG   532683      GENERAL INDUSTRIALS   \n",
       "3       APL Apollo Tubes Ltd.  APLAPOLLO   533758          METALS & MINING   \n",
       "4  Au Small Finance Bank Ltd.     AUBANK   540611      BANKING AND FINANCE   \n",
       "\n",
       "                   industry  revenue operating_expenses operating_profit  \\\n",
       "0      INDUSTRIAL MACHINERY    1,057              847.4            192.1   \n",
       "1  CEMENT & CEMENT PRODUCTS  4,644.8            3,885.4            549.3   \n",
       "2    OTHER INDUSTRIAL GOODS  1,357.1              912.7            382.1   \n",
       "3     IRON & STEEL PRODUCTS    4,650            4,305.4              325   \n",
       "4                     BANKS  2,956.5            1,026.7            647.7   \n",
       "\n",
       "  operating_profit_margin depreciation interest profit_before_tax    tax  \\\n",
       "0                  18.48%         12.9      0.7             195.9   49.8   \n",
       "1                  12.39%        212.8     28.9             517.7  131.5   \n",
       "2                  29.51%         24.5      7.4             412.5   88.4   \n",
       "3                   7.02%         41.3     26.6             276.7   73.8   \n",
       "4                  25.59%            0  1,282.1             533.4  131.5   \n",
       "\n",
       "  net_profit    EPS profit_TTM  EPS_TTM  \n",
       "0      146.1  129.7      535.9    475.7  \n",
       "1      387.9   20.7    1,202.7     64.0  \n",
       "2      323.1   34.3    1,216.1    128.9  \n",
       "3      202.9    7.3      767.5     27.7  \n",
       "4      401.8    6.0    1,606.2     24.0  "
      ]
     },
     "execution_count": 6,
     "metadata": {},
     "output_type": "execute_result"
    }
   ],
   "source": [
    "df.head(5)"
   ]
  },
  {
   "cell_type": "code",
   "execution_count": 7,
   "metadata": {},
   "outputs": [
    {
     "name": "stdout",
     "output_type": "stream",
     "text": [
      "<class 'pandas.core.frame.DataFrame'>\n",
      "RangeIndex: 501 entries, 0 to 500\n",
      "Data columns (total 17 columns):\n",
      " #   Column                   Non-Null Count  Dtype  \n",
      "---  ------                   --------------  -----  \n",
      " 0   name                     501 non-null    object \n",
      " 1   NSE_code                 501 non-null    object \n",
      " 2   BSE_code                 501 non-null    object \n",
      " 3   sector                   501 non-null    object \n",
      " 4   industry                 501 non-null    object \n",
      " 5   revenue                  500 non-null    object \n",
      " 6   operating_expenses       500 non-null    object \n",
      " 7   operating_profit         500 non-null    object \n",
      " 8   operating_profit_margin  500 non-null    object \n",
      " 9   depreciation             500 non-null    object \n",
      " 10  interest                 500 non-null    object \n",
      " 11  profit_before_tax        500 non-null    object \n",
      " 12  tax                      500 non-null    object \n",
      " 13  net_profit               500 non-null    object \n",
      " 14  EPS                      500 non-null    float64\n",
      " 15  profit_TTM               498 non-null    object \n",
      " 16  EPS_TTM                  498 non-null    float64\n",
      "dtypes: float64(2), object(15)\n",
      "memory usage: 66.7+ KB\n"
     ]
    }
   ],
   "source": [
    "df.info()"
   ]
  },
  {
   "cell_type": "code",
   "execution_count": null,
   "metadata": {},
   "outputs": [],
   "source": []
  },
  {
   "cell_type": "markdown",
   "metadata": {},
   "source": [
    "##### What are the unique sectors in the dataset?"
   ]
  },
  {
   "cell_type": "code",
   "execution_count": 8,
   "metadata": {},
   "outputs": [
    {
     "name": "stdout",
     "output_type": "stream",
     "text": [
      "Total Unique Sectors are 28 \n",
      "\n",
      "Unique Sectors are: \n",
      "\n",
      "GENERAL INDUSTRIALS\n",
      "CEMENT AND CONSTRUCTION\n",
      "METALS & MINING\n",
      "BANKING AND FINANCE\n",
      "TRANSPORTATION\n",
      "UTILITIES\n",
      "RETAILING\n",
      "OIL & GAS\n",
      "PHARMACEUTICALS & BIOTECHNOLOGY\n",
      "AUTOMOBILES & AUTO COMPONENTS\n",
      "DIVERSIFIED CONSUMER SERVICES\n",
      "CHEMICALS & PETROCHEMICALS\n",
      "FOOD BEVERAGES & TOBACCO\n",
      "DIVERSIFIED\n",
      "TELECOM SERVICES\n",
      "CONSUMER DURABLES\n",
      "REALTY\n",
      "FMCG\n",
      "FOREST MATERIALS\n",
      "FERTILIZERS\n",
      "COMMERCIAL SERVICES & SUPPLIES\n",
      "SOFTWARE & SERVICES\n",
      "TELECOMMUNICATIONS EQUIPMENT\n",
      "HOTELS RESTAURANTS & TOURISM\n",
      "TEXTILES APPARELS & ACCESSORIES\n",
      "MEDIA\n",
      "OTHERS\n",
      "HEALTHCARE EQUIPMENT & SUPPLIES\n"
     ]
    }
   ],
   "source": [
    "unique_sectors = df.sector.unique()\n",
    "print(f\"Total Unique Sectors are {df.sector.nunique()} \\n\")\n",
    "print(\"Unique Sectors are: \\n\")\n",
    "print(\"\\n\".join(unique_sectors))"
   ]
  },
  {
   "cell_type": "code",
   "execution_count": null,
   "metadata": {},
   "outputs": [],
   "source": []
  },
  {
   "cell_type": "markdown",
   "metadata": {},
   "source": [
    "##### What are the unique industries in the dataset?"
   ]
  },
  {
   "cell_type": "code",
   "execution_count": 9,
   "metadata": {},
   "outputs": [
    {
     "name": "stdout",
     "output_type": "stream",
     "text": [
      "Total Unique Industries are 97 \n",
      "\n",
      "Unique Industries are: \n",
      "\n",
      "INDUSTRIAL MACHINERY\n",
      "CEMENT & CEMENT PRODUCTS\n",
      "OTHER INDUSTRIAL GOODS\n",
      "IRON & STEEL PRODUCTS\n",
      "BANKS\n",
      "MARINE PORT & SERVICES\n",
      "ELECTRIC UTILITIES\n",
      "DEPARTMENT STORES\n",
      "OIL MARKETING & DISTRIBUTION\n",
      "PHARMACEUTICALS\n",
      "AUTO PARTS & EQUIPMENT\n",
      "HEALTHCARE FACILITIES\n",
      "AUTO TYRES & RUBBER PRODUCTS\n",
      "COMMERCIAL VEHICLES\n",
      "FURNITURE-FURNISHING-PAINTS\n",
      "PLASTIC PRODUCTS\n",
      "SPECIALTY CHEMICALS\n",
      "OTHER FOOD PRODUCTS\n",
      "2/3 WHEELERS\n",
      "FINANCE (INCLUDING NBFCS)\n",
      "HOLDING COMPANIES\n",
      "SUGAR\n",
      "FOOTWEAR\n",
      "DEFENCE\n",
      "OTHER INDUSTRIAL PRODUCTS\n",
      "HEAVY ELECTRICAL EQUIPMENT\n",
      "REFINERIES/PETRO-PRODUCTS\n",
      "TELECOM SERVICES\n",
      "OTHER TELECOM SERVICES\n",
      "BIOTECHNOLOGY\n",
      "TRANSPORTATION - LOGISTICS\n",
      "CONSUMER ELECTRONICS\n",
      "TEA & COFFEE\n",
      "REALTY\n",
      "PACKAGED FOODS\n",
      "OTHER FINANCIAL SERVICES\n",
      "HOUSING FINANCE\n",
      "FOREST PRODUCTS\n",
      "FERTILIZERS\n",
      "COAL\n",
      "PERSONAL PRODUCTS\n",
      "WAREHOUSING AND LOGISTICS\n",
      "HOUSEHOLD APPLIANCES\n",
      "IT CONSULTING & SOFTWARE\n",
      "MISC. COMMERCIAL SERVICES\n",
      "HEALTHCARE SERVICES\n",
      "CONSULTING SERVICES\n",
      "OTHER ELECTRICAL EQUIPMENT/PRODUCTS\n",
      "BPO/KPO\n",
      "UTILITIES\n",
      "DIVERSIFIED\n",
      "SHIPPING\n",
      "COMMODITY CHEMICALS\n",
      "TELECOM CABLES\n",
      "ALUMINIUM AND ALUMINIUM PRODUCTS\n",
      "COPPER\n",
      "ZINC\n",
      "CIGARETTES-TOBACCO PRODUCTS\n",
      "LIFE INSURANCE\n",
      "ROADS & HIGHWAYS\n",
      "TELECOM EQUIPMENT\n",
      "HOTELS\n",
      "INTERNET SOFTWARE & SERVICES\n",
      "AIRLINES\n",
      "IRON & STEEL/INTERM.PRODUCTS\n",
      "RESTAURANTS\n",
      "COMMODITY TRADING  & DISTRIBUTION\n",
      "CARS & UTILITY VEHICLES\n",
      "CONSTRUCTION & ENGINEERING\n",
      "EXPLORATION & PRODUCTION\n",
      "AGROCHEMICALS\n",
      "SPECIALTY RETAIL\n",
      "OTHER APPARELS & ACCESSORIES\n",
      "BREWERIES & DISTILLERIES\n",
      "PETROCHEMICALS\n",
      "GEMS & JEWELLERY\n",
      "BROADCASTING & CABLE TV\n",
      "HOUSEWARE\n",
      "TEXTILES\n",
      "NON-ALCOHOLIC BEVERAGES\n",
      "GENERAL INSURANCE\n",
      "EXCHANGE\n",
      "INVESTMENT COMPANIES\n",
      "CARBON BLACK\n",
      "INDUSTRIAL GASES\n",
      "CAPITAL MARKETS\n",
      "ASSET MANAGEMENT COS.\n",
      "PAPER & PAPER PRODUCTS\n",
      "HEALTHCARE SUPPLIES\n",
      "TRAVEL SUPPORT SERVICES\n",
      "EDIBLE OILS\n",
      "CONTAINERS & PACKAGING\n",
      "IT SOFTWARE PRODUCTS\n",
      "INTERNET & CATALOGUE RETAIL\n",
      "DATA PROCESSING SERVICES\n",
      "MINING\n",
      "MOVIES & ENTERTAINMENT\n"
     ]
    }
   ],
   "source": [
    "unique_industries = df.industry.unique()\n",
    "print(f\"Total Unique Industries are {df.industry.nunique()} \\n\")\n",
    "print(\"Unique Industries are: \\n\")\n",
    "print(\"\\n\".join(unique_industries))"
   ]
  },
  {
   "cell_type": "code",
   "execution_count": null,
   "metadata": {},
   "outputs": [],
   "source": []
  },
  {
   "cell_type": "markdown",
   "metadata": {},
   "source": [
    "##### What is the distribution of companies across sectors?"
   ]
  },
  {
   "cell_type": "code",
   "execution_count": 10,
   "metadata": {},
   "outputs": [
    {
     "data": {
      "text/plain": [
       "sector\n",
       "BANKING AND FINANCE                76\n",
       "GENERAL INDUSTRIALS                39\n",
       "SOFTWARE & SERVICES                39\n",
       "AUTOMOBILES & AUTO COMPONENTS      36\n",
       "PHARMACEUTICALS & BIOTECHNOLOGY    35\n",
       "CHEMICALS & PETROCHEMICALS         33\n",
       "CEMENT AND CONSTRUCTION            24\n",
       "DIVERSIFIED CONSUMER SERVICES      20\n",
       "UTILITIES                          20\n",
       "METALS & MINING                    19\n",
       "CONSUMER DURABLES                  19\n",
       "FMCG                               18\n",
       "TEXTILES APPARELS & ACCESSORIES    15\n",
       "FOOD BEVERAGES & TOBACCO           13\n",
       "COMMERCIAL SERVICES & SUPPLIES     12\n",
       "RETAILING                          11\n",
       "REALTY                             11\n",
       "OIL & GAS                          10\n",
       "HOTELS RESTAURANTS & TOURISM       10\n",
       "TRANSPORTATION                      9\n",
       "DIVERSIFIED                         8\n",
       "TELECOM SERVICES                    6\n",
       "FERTILIZERS                         6\n",
       "MEDIA                               5\n",
       "TELECOMMUNICATIONS EQUIPMENT        3\n",
       "HEALTHCARE EQUIPMENT & SUPPLIES     2\n",
       "FOREST MATERIALS                    1\n",
       "OTHERS                              1\n",
       "Name: count, dtype: int64"
      ]
     },
     "execution_count": 10,
     "metadata": {},
     "output_type": "execute_result"
    }
   ],
   "source": [
    "df['sector'].value_counts()"
   ]
  },
  {
   "cell_type": "code",
   "execution_count": null,
   "metadata": {},
   "outputs": [],
   "source": []
  },
  {
   "cell_type": "markdown",
   "metadata": {},
   "source": [
    "##### What is the distribution of companies across industry?"
   ]
  },
  {
   "cell_type": "code",
   "execution_count": 11,
   "metadata": {},
   "outputs": [
    {
     "data": {
      "text/plain": [
       "industry\n",
       "PHARMACEUTICALS             33\n",
       "BANKS                       28\n",
       "AUTO PARTS & EQUIPMENT      20\n",
       "IT CONSULTING & SOFTWARE    19\n",
       "SPECIALTY CHEMICALS         18\n",
       "                            ..\n",
       "HOUSEHOLD APPLIANCES         1\n",
       "AIRLINES                     1\n",
       "DIVERSIFIED                  1\n",
       "TELECOM EQUIPMENT            1\n",
       "MOVIES & ENTERTAINMENT       1\n",
       "Name: count, Length: 97, dtype: int64"
      ]
     },
     "execution_count": 11,
     "metadata": {},
     "output_type": "execute_result"
    }
   ],
   "source": [
    "df['industry'].value_counts()"
   ]
  },
  {
   "cell_type": "code",
   "execution_count": null,
   "metadata": {},
   "outputs": [],
   "source": []
  },
  {
   "cell_type": "markdown",
   "metadata": {},
   "source": [
    "##### What is the average and median value of EPS (Earnings Per Share) and EPS_TTM (Earnings Per Share - Trailing Twelve Months)?"
   ]
  },
  {
   "cell_type": "code",
   "execution_count": null,
   "metadata": {},
   "outputs": [],
   "source": []
  },
  {
   "cell_type": "markdown",
   "metadata": {},
   "source": [
    "##### How is the distribution of net profit across different sectors?"
   ]
  },
  {
   "cell_type": "code",
   "execution_count": null,
   "metadata": {},
   "outputs": [],
   "source": []
  },
  {
   "cell_type": "markdown",
   "metadata": {},
   "source": [
    "##### What is the distribution of EPS for companies in the 'Finance' sector?"
   ]
  },
  {
   "cell_type": "code",
   "execution_count": null,
   "metadata": {},
   "outputs": [],
   "source": []
  }
 ],
 "metadata": {
  "kernelspec": {
   "display_name": "venv",
   "language": "python",
   "name": "python3"
  },
  "language_info": {
   "codemirror_mode": {
    "name": "ipython",
    "version": 3
   },
   "file_extension": ".py",
   "mimetype": "text/x-python",
   "name": "python",
   "nbconvert_exporter": "python",
   "pygments_lexer": "ipython3",
   "version": "3.10.12"
  }
 },
 "nbformat": 4,
 "nbformat_minor": 2
}
