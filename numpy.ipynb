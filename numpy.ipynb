{
 "cells": [
  {
   "cell_type": "code",
   "execution_count": 7,
   "id": "d374f5ae-0126-415b-827d-181875b5cbfc",
   "metadata": {},
   "outputs": [],
   "source": [
    "import numpy as np"
   ]
  },
  {
   "cell_type": "code",
   "execution_count": 8,
   "id": "1c5f7b7e-fa99-4c11-9c17-84303dff8b02",
   "metadata": {},
   "outputs": [],
   "source": [
    "kanto = np.array([73, 67, 43])"
   ]
  },
  {
   "cell_type": "code",
   "execution_count": 9,
   "id": "fa4980e9-445a-43a9-b49f-82fd92988c59",
   "metadata": {},
   "outputs": [],
   "source": [
    "weights = np.array([0.3, 0.2, 0.5])"
   ]
  },
  {
   "cell_type": "code",
   "execution_count": 10,
   "id": "2c85d073-fac9-496b-a323-6ce80e7a2be2",
   "metadata": {},
   "outputs": [
    {
     "data": {
      "text/plain": [
       "56.8"
      ]
     },
     "execution_count": 10,
     "metadata": {},
     "output_type": "execute_result"
    }
   ],
   "source": [
    "np.dot(kanto, weights)"
   ]
  },
  {
   "cell_type": "code",
   "execution_count": 11,
   "id": "fc35e78b-ca8a-4e0a-8f32-42781277a36b",
   "metadata": {},
   "outputs": [
    {
     "data": {
      "text/plain": [
       "56.8"
      ]
     },
     "execution_count": 11,
     "metadata": {},
     "output_type": "execute_result"
    }
   ],
   "source": [
    "(kanto * weights).sum()"
   ]
  },
  {
   "cell_type": "code",
   "execution_count": 12,
   "id": "7870f3bf-9c8f-4b06-9097-f5a527229e7e",
   "metadata": {},
   "outputs": [
    {
     "data": {
      "text/plain": [
       "(3,)"
      ]
     },
     "execution_count": 12,
     "metadata": {},
     "output_type": "execute_result"
    }
   ],
   "source": [
    "weights.shape"
   ]
  },
  {
   "cell_type": "markdown",
   "id": "ee38879e-a7d2-4967-8b25-1ea1f37e6d9d",
   "metadata": {},
   "source": [
    "## 3-D Array"
   ]
  },
  {
   "cell_type": "code",
   "execution_count": 13,
   "id": "e944e643-ce1f-4740-84b6-02867e5ebc43",
   "metadata": {},
   "outputs": [],
   "source": [
    "array_3d = np.array([\n",
    "    [\n",
    "        [1,2,3], [4,5, 6]\n",
    "    ],\n",
    "    [\n",
    "        [7,8, 9], [10, 11, 12]\n",
    "    ],\n",
    "    [\n",
    "        [13,14, 15], [16, 17, 18]\n",
    "    ]\n",
    "])"
   ]
  },
  {
   "cell_type": "code",
   "execution_count": 14,
   "id": "cceb06f5-1856-4f11-8550-ad6010c88d9f",
   "metadata": {},
   "outputs": [
    {
     "data": {
      "text/plain": [
       "array([[[ 1,  2,  3],\n",
       "        [ 4,  5,  6]],\n",
       "\n",
       "       [[ 7,  8,  9],\n",
       "        [10, 11, 12]],\n",
       "\n",
       "       [[13, 14, 15],\n",
       "        [16, 17, 18]]])"
      ]
     },
     "execution_count": 14,
     "metadata": {},
     "output_type": "execute_result"
    }
   ],
   "source": [
    "array_3d"
   ]
  },
  {
   "cell_type": "code",
   "execution_count": 15,
   "id": "d27aa71f-13db-45a2-9a42-a62fa34f0390",
   "metadata": {},
   "outputs": [
    {
     "data": {
      "text/plain": [
       "(3, 2, 3)"
      ]
     },
     "execution_count": 15,
     "metadata": {},
     "output_type": "execute_result"
    }
   ],
   "source": [
    "array_3d.shape"
   ]
  },
  {
   "cell_type": "code",
   "execution_count": 16,
   "id": "f343dc03-de7c-4159-abdd-19fd6f6ba1a1",
   "metadata": {},
   "outputs": [
    {
     "data": {
      "text/plain": [
       "dtype('int64')"
      ]
     },
     "execution_count": 16,
     "metadata": {},
     "output_type": "execute_result"
    }
   ],
   "source": [
    "array_3d.dtype"
   ]
  },
  {
   "cell_type": "code",
   "execution_count": 17,
   "id": "ec99e8f8-aaa2-426c-a3e1-a27cc42c5aa1",
   "metadata": {},
   "outputs": [
    {
     "data": {
      "text/plain": [
       "array([[ 2.2,  5.2],\n",
       "       [ 8.2, 11.2],\n",
       "       [14.2, 17.2]])"
      ]
     },
     "execution_count": 17,
     "metadata": {},
     "output_type": "execute_result"
    }
   ],
   "source": [
    "np.dot(array_3d, weights)"
   ]
  },
  {
   "cell_type": "markdown",
   "id": "5797887c-eaa7-4f32-8b7d-c5f4aa818002",
   "metadata": {},
   "source": [
    "## MATRIX MULTIPLICATION"
   ]
  },
  {
   "cell_type": "markdown",
   "id": "a5e38a8c-8ce7-4430-bafb-94bbff1a689e",
   "metadata": {},
   "source": [
    "#### climate_data = np.array([temperature, rainfall, humidity])"
   ]
  },
  {
   "cell_type": "code",
   "execution_count": 18,
   "id": "5f8d0497-f4af-4667-83d1-ef48751cbb0e",
   "metadata": {},
   "outputs": [],
   "source": [
    "climate_data = np.array([\n",
    "    [73, 67, 43],\n",
    "    [91, 88, 64],\n",
    "    [87, 134, 58],\n",
    "    [102, 43, 37],\n",
    "    [69, 96, 70],\n",
    "])"
   ]
  },
  {
   "cell_type": "code",
   "execution_count": 19,
   "id": "b17f969c-cb5e-459b-87ea-5ec12d11c5e0",
   "metadata": {
    "scrolled": true
   },
   "outputs": [
    {
     "data": {
      "text/plain": [
       "array([[ 73,  67,  43],\n",
       "       [ 91,  88,  64],\n",
       "       [ 87, 134,  58],\n",
       "       [102,  43,  37],\n",
       "       [ 69,  96,  70]])"
      ]
     },
     "execution_count": 19,
     "metadata": {},
     "output_type": "execute_result"
    }
   ],
   "source": [
    "climate_data"
   ]
  },
  {
   "cell_type": "code",
   "execution_count": 20,
   "id": "10d0eb76-501e-421a-9eaf-bd06352847d8",
   "metadata": {},
   "outputs": [
    {
     "data": {
      "text/plain": [
       "(5, 3)"
      ]
     },
     "execution_count": 20,
     "metadata": {},
     "output_type": "execute_result"
    }
   ],
   "source": [
    "climate_data.shape"
   ]
  },
  {
   "cell_type": "code",
   "execution_count": 21,
   "id": "6be4c94e-1341-449c-be98-76fd86278df0",
   "metadata": {},
   "outputs": [
    {
     "data": {
      "text/plain": [
       "array([0.3, 0.2, 0.5])"
      ]
     },
     "execution_count": 21,
     "metadata": {},
     "output_type": "execute_result"
    }
   ],
   "source": [
    "weights"
   ]
  },
  {
   "cell_type": "markdown",
   "id": "3b3e4803-38a2-4cd2-a1d2-ada25c06b405",
   "metadata": {},
   "source": [
    "##### Matrix Multiplication"
   ]
  },
  {
   "cell_type": "code",
   "execution_count": 22,
   "id": "c3522b61-f5b1-4a24-bab7-c9522507ec97",
   "metadata": {},
   "outputs": [
    {
     "data": {
      "text/plain": [
       "array([56.8, 76.9, 81.9, 57.7, 74.9])"
      ]
     },
     "execution_count": 22,
     "metadata": {},
     "output_type": "execute_result"
    }
   ],
   "source": [
    "np.matmul(climate_data, weights)"
   ]
  },
  {
   "cell_type": "markdown",
   "id": "59e3d02f-b6a8-42d8-999f-a4d99d07860e",
   "metadata": {},
   "source": [
    "##### Matrix Multiplication - Another Method"
   ]
  },
  {
   "cell_type": "code",
   "execution_count": 23,
   "id": "b6ce46ed-a49a-4c79-b260-66d2b4002756",
   "metadata": {},
   "outputs": [],
   "source": [
    "climate_results = climate_data @ weights"
   ]
  },
  {
   "cell_type": "code",
   "execution_count": 24,
   "id": "41dfb786-67c0-4818-a32a-c1e4d126dca7",
   "metadata": {},
   "outputs": [
    {
     "data": {
      "text/plain": [
       "array([56.8, 76.9, 81.9, 57.7, 74.9])"
      ]
     },
     "execution_count": 24,
     "metadata": {},
     "output_type": "execute_result"
    }
   ],
   "source": [
    "climate_results"
   ]
  },
  {
   "cell_type": "markdown",
   "id": "2d345ea8-3772-46bb-bc23-a418d97f96a2",
   "metadata": {},
   "source": [
    "##### Reshape Data"
   ]
  },
  {
   "cell_type": "code",
   "execution_count": 25,
   "id": "502058d9-5334-4a0f-976e-fe01fac8d948",
   "metadata": {},
   "outputs": [
    {
     "data": {
      "text/plain": [
       "array([[56.8],\n",
       "       [76.9],\n",
       "       [81.9],\n",
       "       [57.7],\n",
       "       [74.9]])"
      ]
     },
     "execution_count": 25,
     "metadata": {},
     "output_type": "execute_result"
    }
   ],
   "source": [
    "climate_results.reshape(climate_results.shape[0], 1)"
   ]
  },
  {
   "cell_type": "code",
   "execution_count": 26,
   "id": "6af8f8f0-511f-416d-8871-9cd5a5d7349a",
   "metadata": {},
   "outputs": [],
   "source": [
    "#np.concatenate & np.savetxt"
   ]
  },
  {
   "cell_type": "markdown",
   "id": "1acd17fb-6427-401c-b999-65de87d70ce2",
   "metadata": {},
   "source": [
    "## Numpy Arithmetic Operation"
   ]
  },
  {
   "cell_type": "code",
   "execution_count": 27,
   "id": "aac1cc05-4ea8-40ba-8810-1854f033a598",
   "metadata": {},
   "outputs": [],
   "source": [
    "arr1 = np.array([\n",
    "    [1,2,3],\n",
    "    [4,5,6]\n",
    "])"
   ]
  },
  {
   "cell_type": "code",
   "execution_count": 28,
   "id": "0947ee3d-72ab-496f-bb03-01b12adc9dfc",
   "metadata": {},
   "outputs": [],
   "source": [
    "arr2 = np.array([\n",
    "    [11,12,13],\n",
    "    [14,15,16]\n",
    "])"
   ]
  },
  {
   "cell_type": "markdown",
   "id": "a240da7e-e579-4e8e-bc5e-1db707f782e3",
   "metadata": {},
   "source": [
    "#### Array Addition"
   ]
  },
  {
   "cell_type": "code",
   "execution_count": 29,
   "id": "1a206cdd-c4ed-45b0-bda2-dc22003ce6fc",
   "metadata": {},
   "outputs": [
    {
     "data": {
      "text/plain": [
       "array([[12, 14, 16],\n",
       "       [18, 20, 22]])"
      ]
     },
     "execution_count": 29,
     "metadata": {},
     "output_type": "execute_result"
    }
   ],
   "source": [
    "np.add(arr1, arr2)"
   ]
  },
  {
   "cell_type": "code",
   "execution_count": 30,
   "id": "e84f6f78-ff02-4b54-9ba8-653a9c641422",
   "metadata": {},
   "outputs": [
    {
     "data": {
      "text/plain": [
       "array([[12, 14, 16],\n",
       "       [18, 20, 22]])"
      ]
     },
     "execution_count": 30,
     "metadata": {},
     "output_type": "execute_result"
    }
   ],
   "source": [
    "arr1 + arr2"
   ]
  },
  {
   "cell_type": "markdown",
   "id": "b8c06b1e-31ec-41af-87b9-8133838bfc1a",
   "metadata": {},
   "source": [
    "#### Array Subtraction"
   ]
  },
  {
   "cell_type": "code",
   "execution_count": 31,
   "id": "3c012ab7-0117-4648-b316-d41142642f4a",
   "metadata": {},
   "outputs": [
    {
     "data": {
      "text/plain": [
       "array([[10, 10, 10],\n",
       "       [10, 10, 10]])"
      ]
     },
     "execution_count": 31,
     "metadata": {},
     "output_type": "execute_result"
    }
   ],
   "source": [
    "np.subtract(arr2, arr1)"
   ]
  },
  {
   "cell_type": "code",
   "execution_count": 32,
   "id": "a7883fb3-474d-45b5-b0a7-7b052438a574",
   "metadata": {},
   "outputs": [
    {
     "data": {
      "text/plain": [
       "array([[10, 10, 10],\n",
       "       [10, 10, 10]])"
      ]
     },
     "execution_count": 32,
     "metadata": {},
     "output_type": "execute_result"
    }
   ],
   "source": [
    "arr2 - arr1"
   ]
  },
  {
   "cell_type": "markdown",
   "id": "7848e5bd-7238-4219-b9e2-955a470b2005",
   "metadata": {},
   "source": [
    "#### Array Multiplication"
   ]
  },
  {
   "cell_type": "code",
   "execution_count": 33,
   "id": "c7781ddd-b586-41b0-8d57-42c9fa95d5e3",
   "metadata": {},
   "outputs": [
    {
     "data": {
      "text/plain": [
       "array([[11, 24, 39],\n",
       "       [56, 75, 96]])"
      ]
     },
     "execution_count": 33,
     "metadata": {},
     "output_type": "execute_result"
    }
   ],
   "source": [
    "np.multiply(arr1, arr2)"
   ]
  },
  {
   "cell_type": "code",
   "execution_count": 34,
   "id": "b30dfd28-7ba3-4eac-a325-2b30594ae9eb",
   "metadata": {},
   "outputs": [
    {
     "data": {
      "text/plain": [
       "array([[11, 24, 39],\n",
       "       [56, 75, 96]])"
      ]
     },
     "execution_count": 34,
     "metadata": {},
     "output_type": "execute_result"
    }
   ],
   "source": [
    "arr1 * arr2"
   ]
  },
  {
   "cell_type": "markdown",
   "id": "49fd1b1d-c817-40e0-97c2-aa48be779aaa",
   "metadata": {},
   "source": [
    "#### Array Division"
   ]
  },
  {
   "cell_type": "code",
   "execution_count": 35,
   "id": "63431e82-56e5-4fc4-94e1-a8333ebf1efd",
   "metadata": {},
   "outputs": [
    {
     "data": {
      "text/plain": [
       "array([[0.5, 1. , 1.5],\n",
       "       [2. , 2.5, 3. ]])"
      ]
     },
     "execution_count": 35,
     "metadata": {},
     "output_type": "execute_result"
    }
   ],
   "source": [
    "np.divide(arr1, 2)"
   ]
  },
  {
   "cell_type": "code",
   "execution_count": 36,
   "id": "ea26bbb4-dc75-4128-b49f-921f12c4d2d6",
   "metadata": {},
   "outputs": [
    {
     "data": {
      "text/plain": [
       "array([[0.5, 1. , 1.5],\n",
       "       [2. , 2.5, 3. ]])"
      ]
     },
     "execution_count": 36,
     "metadata": {},
     "output_type": "execute_result"
    }
   ],
   "source": [
    "arr1 / 2 "
   ]
  },
  {
   "cell_type": "markdown",
   "id": "aeb24d75-8df8-4a70-bf5a-9fd88652a2a5",
   "metadata": {},
   "source": [
    "#### Array Mode"
   ]
  },
  {
   "cell_type": "code",
   "execution_count": 37,
   "id": "6076bd6a-9e8c-4446-b36a-2dec3d64c41d",
   "metadata": {},
   "outputs": [
    {
     "data": {
      "text/plain": [
       "array([[1, 0, 1],\n",
       "       [0, 1, 0]])"
      ]
     },
     "execution_count": 37,
     "metadata": {},
     "output_type": "execute_result"
    }
   ],
   "source": [
    "np.mod(arr1,2)"
   ]
  },
  {
   "cell_type": "code",
   "execution_count": 38,
   "id": "ee9fd93d-c484-41fe-999c-19388f14680a",
   "metadata": {},
   "outputs": [
    {
     "data": {
      "text/plain": [
       "array([[1, 0, 1],\n",
       "       [0, 1, 0]])"
      ]
     },
     "execution_count": 38,
     "metadata": {},
     "output_type": "execute_result"
    }
   ],
   "source": [
    "arr1 % 2"
   ]
  },
  {
   "cell_type": "markdown",
   "id": "948216d3-bce0-4626-9fac-447fa82f50f4",
   "metadata": {},
   "source": [
    "#### Array Power"
   ]
  },
  {
   "cell_type": "code",
   "execution_count": 39,
   "id": "5a8cf355-6a7b-40f9-ac8d-a649546d362a",
   "metadata": {},
   "outputs": [
    {
     "data": {
      "text/plain": [
       "array([[ 1,  4,  9],\n",
       "       [16, 25, 36]])"
      ]
     },
     "execution_count": 39,
     "metadata": {},
     "output_type": "execute_result"
    }
   ],
   "source": [
    "np.power(arr1, 2)"
   ]
  },
  {
   "cell_type": "code",
   "execution_count": 40,
   "id": "f1d76f31-86d1-4526-ad6a-3cceb97af121",
   "metadata": {},
   "outputs": [
    {
     "data": {
      "text/plain": [
       "array([[ 1,  4,  9],\n",
       "       [16, 25, 36]])"
      ]
     },
     "execution_count": 40,
     "metadata": {},
     "output_type": "execute_result"
    }
   ],
   "source": [
    "arr1 ** 2 "
   ]
  },
  {
   "cell_type": "markdown",
   "id": "ea622cdf-8706-4aae-8f5e-7a8f158c934e",
   "metadata": {},
   "source": [
    "## Numpy Array Broadcasting"
   ]
  },
  {
   "cell_type": "code",
   "execution_count": 41,
   "id": "78b06235-6fd2-4fc5-9876-167c460350e9",
   "metadata": {},
   "outputs": [],
   "source": [
    "arr1 = np.array([\n",
    "    [1,2,3],\n",
    "    [4,5,6]\n",
    "])"
   ]
  },
  {
   "cell_type": "code",
   "execution_count": 42,
   "id": "9d46c6cb-4544-4bb1-a250-48109ff4e9e6",
   "metadata": {},
   "outputs": [],
   "source": [
    "arr2 = np.array([\n",
    "    [11,12,13]\n",
    "])"
   ]
  },
  {
   "cell_type": "markdown",
   "id": "7c8ce17d-bd48-4665-add9-2337a61ce6c7",
   "metadata": {},
   "source": [
    "#### When we try to add arr1 + arr2, before doing this numpy replicate arr2 from np.array([ [11,12,13] ]) to np.array([ [11,12,13], [11,12,13] ]). This is called array broadcasting. Broadcasting only works if one of the arrays can be replicated to exactly match the shape of the other array."
   ]
  },
  {
   "cell_type": "code",
   "execution_count": 43,
   "id": "3bc44f8e-c649-4d34-aa27-5c0a054ffbda",
   "metadata": {},
   "outputs": [
    {
     "data": {
      "text/plain": [
       "array([[12, 14, 16],\n",
       "       [15, 17, 19]])"
      ]
     },
     "execution_count": 43,
     "metadata": {},
     "output_type": "execute_result"
    }
   ],
   "source": [
    "arr1 + arr2"
   ]
  },
  {
   "cell_type": "markdown",
   "id": "4dd48eb6-5773-4b46-8dd2-d5f3b9307948",
   "metadata": {},
   "source": [
    "## Array Comparison"
   ]
  },
  {
   "cell_type": "code",
   "execution_count": 44,
   "id": "4c928164-4b3e-4e55-9eff-1394242fce69",
   "metadata": {},
   "outputs": [],
   "source": [
    "arr1 = np.array([\n",
    "    [1,2,3], [4,5,6],\n",
    "])"
   ]
  },
  {
   "cell_type": "code",
   "execution_count": 45,
   "id": "15206a56-739c-404f-9533-71d5c1315086",
   "metadata": {},
   "outputs": [],
   "source": [
    "arr2 = np.array([\n",
    "    [1,2,4], [8,9,6]\n",
    "])"
   ]
  },
  {
   "cell_type": "code",
   "execution_count": 46,
   "id": "6a113b48-c475-481b-96eb-98b4a6edc3b3",
   "metadata": {},
   "outputs": [
    {
     "data": {
      "text/plain": [
       "array([[ True,  True, False],\n",
       "       [False, False,  True]])"
      ]
     },
     "execution_count": 46,
     "metadata": {},
     "output_type": "execute_result"
    }
   ],
   "source": [
    "arr1 == arr2"
   ]
  },
  {
   "cell_type": "code",
   "execution_count": 47,
   "id": "1d668f81-1e0f-4565-ab12-08fb3fbaf6e9",
   "metadata": {},
   "outputs": [
    {
     "data": {
      "text/plain": [
       "array([[False, False,  True],\n",
       "       [ True,  True, False]])"
      ]
     },
     "execution_count": 47,
     "metadata": {},
     "output_type": "execute_result"
    }
   ],
   "source": [
    "arr1 != arr2"
   ]
  },
  {
   "cell_type": "code",
   "execution_count": 48,
   "id": "fcf437d6-71ad-4400-b3b8-3f653a59a9e3",
   "metadata": {},
   "outputs": [
    {
     "data": {
      "text/plain": [
       "array([[ True,  True, False],\n",
       "       [False, False,  True]])"
      ]
     },
     "execution_count": 48,
     "metadata": {},
     "output_type": "execute_result"
    }
   ],
   "source": [
    "arr1 >= arr2"
   ]
  },
  {
   "cell_type": "markdown",
   "id": "a686df6d-c512-4111-ae56-0c9f860d8d17",
   "metadata": {},
   "source": [
    "#### Below code consider True as 1 and False as 0"
   ]
  },
  {
   "cell_type": "code",
   "execution_count": 49,
   "id": "2f314dfe-2b33-477d-a569-dd65e44d4fd6",
   "metadata": {},
   "outputs": [
    {
     "data": {
      "text/plain": [
       "3"
      ]
     },
     "execution_count": 49,
     "metadata": {},
     "output_type": "execute_result"
    }
   ],
   "source": [
    "(arr1 == arr2).sum()"
   ]
  },
  {
   "cell_type": "markdown",
   "id": "72a33342-3827-45cb-accb-12511e9a4742",
   "metadata": {},
   "source": [
    "## Array Indexing and Slicing"
   ]
  },
  {
   "cell_type": "code",
   "execution_count": 50,
   "id": "afa4cdbf-ecc8-4029-bd46-da0f211903f9",
   "metadata": {},
   "outputs": [],
   "source": [
    "arr1 = np.array([\n",
    "    [[1,2,3], [4,5,6]],\n",
    "    [[4,5,6], [7,8,9]],\n",
    "    [[10,11,12], [13,14,15]]\n",
    "])"
   ]
  },
  {
   "cell_type": "code",
   "execution_count": 51,
   "id": "d6da6784-6351-480b-9b94-23727a63020c",
   "metadata": {},
   "outputs": [
    {
     "data": {
      "text/plain": [
       "(3, 2, 3)"
      ]
     },
     "execution_count": 51,
     "metadata": {},
     "output_type": "execute_result"
    }
   ],
   "source": [
    "arr1.shape"
   ]
  },
  {
   "cell_type": "code",
   "execution_count": 52,
   "id": "f5ad6dad-187b-443f-9b0a-f05015f8801f",
   "metadata": {},
   "outputs": [
    {
     "data": {
      "text/plain": [
       "14"
      ]
     },
     "execution_count": 52,
     "metadata": {},
     "output_type": "execute_result"
    }
   ],
   "source": [
    "# Array Indexing\n",
    "arr1[2,1,1]"
   ]
  },
  {
   "cell_type": "code",
   "execution_count": 53,
   "id": "2f7333df-b47a-4a4b-a4c3-9aead43e55c3",
   "metadata": {},
   "outputs": [
    {
     "data": {
      "text/plain": [
       "array([[[ 4,  5]],\n",
       "\n",
       "       [[10, 11]]])"
      ]
     },
     "execution_count": 53,
     "metadata": {},
     "output_type": "execute_result"
    }
   ],
   "source": [
    "# SubArray using ranges\n",
    "arr1[1:,0:1,:2]"
   ]
  },
  {
   "cell_type": "code",
   "execution_count": 54,
   "id": "a7151b17-dd00-4cfa-84e3-15bada96c1c2",
   "metadata": {},
   "outputs": [
    {
     "data": {
      "text/plain": [
       "(2, 1, 2)"
      ]
     },
     "execution_count": 54,
     "metadata": {},
     "output_type": "execute_result"
    }
   ],
   "source": [
    "arr1[1:,0:1,:2].shape"
   ]
  },
  {
   "cell_type": "markdown",
   "id": "7cafdea6-f0d2-42a1-b49c-6a3c0126183c",
   "metadata": {},
   "source": [
    "## Special Arrays"
   ]
  },
  {
   "cell_type": "code",
   "execution_count": 55,
   "id": "16de3c06-7d57-4ea5-b0c7-9faa3b147d5e",
   "metadata": {},
   "outputs": [
    {
     "data": {
      "text/plain": [
       "array([[0., 0.],\n",
       "       [0., 0.],\n",
       "       [0., 0.]])"
      ]
     },
     "execution_count": 55,
     "metadata": {},
     "output_type": "execute_result"
    }
   ],
   "source": [
    "np.zeros((3,2))"
   ]
  },
  {
   "cell_type": "code",
   "execution_count": 56,
   "id": "63e87acb-47ae-49cf-920c-93eecbae1148",
   "metadata": {},
   "outputs": [
    {
     "data": {
      "text/plain": [
       "array([[1., 1., 1., 1.],\n",
       "       [1., 1., 1., 1.]])"
      ]
     },
     "execution_count": 56,
     "metadata": {},
     "output_type": "execute_result"
    }
   ],
   "source": [
    "np.ones((2,4))"
   ]
  },
  {
   "cell_type": "code",
   "execution_count": 57,
   "id": "9d03a75b-c0d9-4076-8e63-24ef0696c403",
   "metadata": {},
   "outputs": [
    {
     "data": {
      "text/plain": [
       "array([[1., 0., 0., 0.],\n",
       "       [0., 1., 0., 0.],\n",
       "       [0., 0., 1., 0.],\n",
       "       [0., 0., 0., 1.]])"
      ]
     },
     "execution_count": 57,
     "metadata": {},
     "output_type": "execute_result"
    }
   ],
   "source": [
    "#Identity Matrix\n",
    "np.eye(4)"
   ]
  },
  {
   "cell_type": "code",
   "execution_count": null,
   "id": "83f5439a-1bf8-4db8-96a3-00394a236409",
   "metadata": {},
   "outputs": [],
   "source": []
  },
  {
   "cell_type": "code",
   "execution_count": 58,
   "id": "9b9669e1-c07b-4261-afad-f0a0aaa4a8c1",
   "metadata": {},
   "outputs": [
    {
     "data": {
      "text/plain": [
       "0.033207631341799715"
      ]
     },
     "execution_count": 58,
     "metadata": {},
     "output_type": "execute_result"
    }
   ],
   "source": [
    "np.random.rand()"
   ]
  },
  {
   "cell_type": "code",
   "execution_count": 59,
   "id": "b2368391-3395-46c0-9e62-9e9b7f158962",
   "metadata": {},
   "outputs": [
    {
     "data": {
      "text/plain": [
       "array([[0.85693601, 0.3148668 , 0.84099272],\n",
       "       [0.21469668, 0.55239351, 0.07876426],\n",
       "       [0.95601428, 0.95234629, 0.20443898],\n",
       "       [0.14372088, 0.7215838 , 0.20136555]])"
      ]
     },
     "execution_count": 59,
     "metadata": {},
     "output_type": "execute_result"
    }
   ],
   "source": [
    "# This is used to generate an array with random value between 0 & 1\n",
    "np.random.rand(4,3)"
   ]
  },
  {
   "cell_type": "markdown",
   "id": "abd82234-f877-4918-9fd6-4adf696cbd26",
   "metadata": {},
   "source": [
    "##### This is used to generate an array with random value between 0 & 1"
   ]
  },
  {
   "cell_type": "code",
   "execution_count": null,
   "id": "a4ddcc17-9a96-4567-94bb-7d667017803b",
   "metadata": {},
   "outputs": [],
   "source": []
  },
  {
   "cell_type": "code",
   "execution_count": 60,
   "id": "b02fb194-ee21-41bc-8c7b-9a7e266339a9",
   "metadata": {},
   "outputs": [
    {
     "data": {
      "text/plain": [
       "1.0801096597462259"
      ]
     },
     "execution_count": 60,
     "metadata": {},
     "output_type": "execute_result"
    }
   ],
   "source": [
    "np.random.randn()"
   ]
  },
  {
   "cell_type": "code",
   "execution_count": 61,
   "id": "46c631fe-8f3b-4f35-afce-ec98352b68b7",
   "metadata": {},
   "outputs": [
    {
     "data": {
      "text/plain": [
       "array([[ 0.20438048, -1.46760188,  0.25986714,  0.61649321],\n",
       "       [ 2.00457189, -0.631456  ,  1.71673482,  0.33678584],\n",
       "       [-0.21037156, -0.12624396, -2.83079242,  0.32522408],\n",
       "       [ 1.12539434, -0.53394953,  0.59383682,  0.94580879],\n",
       "       [ 0.69873233,  1.33901505,  0.10338117,  0.03681785]])"
      ]
     },
     "execution_count": 61,
     "metadata": {},
     "output_type": "execute_result"
    }
   ],
   "source": [
    "# This function is used to create an array with random values close to zero. This function may return positive or negative number as well\n",
    "np.random.randn(5,4)"
   ]
  },
  {
   "cell_type": "markdown",
   "id": "ecc4956f-1228-4496-a86d-f5da0b38349e",
   "metadata": {},
   "source": [
    "#### This function is used to create an array with random values close to zero. This function may return positive or negative number as well"
   ]
  },
  {
   "cell_type": "code",
   "execution_count": null,
   "id": "0fb303fe-513d-4c1c-81f0-5c0a9f7b502a",
   "metadata": {},
   "outputs": [],
   "source": []
  },
  {
   "cell_type": "code",
   "execution_count": 62,
   "id": "adcf4dcb-e3d4-4ccb-9e67-2e3a16cc59a7",
   "metadata": {},
   "outputs": [
    {
     "data": {
      "text/plain": [
       "1"
      ]
     },
     "execution_count": 62,
     "metadata": {},
     "output_type": "execute_result"
    }
   ],
   "source": [
    "np.random.randint(1,8)"
   ]
  },
  {
   "cell_type": "code",
   "execution_count": 63,
   "id": "a92ab879-6f46-4c91-b86a-4745e8c25c64",
   "metadata": {},
   "outputs": [
    {
     "data": {
      "text/plain": [
       "array([7, 4, 6, 3, 3, 5, 7])"
      ]
     },
     "execution_count": 63,
     "metadata": {},
     "output_type": "execute_result"
    }
   ],
   "source": [
    "np.random.randint(1,8,7)"
   ]
  },
  {
   "cell_type": "markdown",
   "id": "b3235801-3e6d-4907-9a01-08768da89009",
   "metadata": {},
   "source": [
    "#### This function is used to create an array with random values between given range"
   ]
  },
  {
   "cell_type": "code",
   "execution_count": null,
   "id": "3808fa18-ef26-4651-aa99-1d4ade09a48c",
   "metadata": {},
   "outputs": [],
   "source": []
  },
  {
   "cell_type": "code",
   "execution_count": 64,
   "id": "a5efa3f3-ee6f-4710-b9b6-c58a6eea0bef",
   "metadata": {},
   "outputs": [
    {
     "data": {
      "text/plain": [
       "array([10, 13, 16, 19, 22, 25, 28, 31, 34, 37, 40, 43, 46, 49, 52, 55, 58,\n",
       "       61, 64, 67, 70, 73, 76, 79, 82, 85, 88])"
      ]
     },
     "execution_count": 64,
     "metadata": {},
     "output_type": "execute_result"
    }
   ],
   "source": [
    "np.arange(10, 90, 3)"
   ]
  },
  {
   "cell_type": "code",
   "execution_count": 65,
   "id": "1f6bafc4-e760-4506-bfef-765518081f10",
   "metadata": {},
   "outputs": [
    {
     "data": {
      "text/plain": [
       "array([[[10, 13, 16],\n",
       "        [19, 22, 25],\n",
       "        [28, 31, 34]],\n",
       "\n",
       "       [[37, 40, 43],\n",
       "        [46, 49, 52],\n",
       "        [55, 58, 61]],\n",
       "\n",
       "       [[64, 67, 70],\n",
       "        [73, 76, 79],\n",
       "        [82, 85, 88]]])"
      ]
     },
     "execution_count": 65,
     "metadata": {},
     "output_type": "execute_result"
    }
   ],
   "source": [
    "# Array Reshape\n",
    "np.arange(10, 90, 3).reshape(3,3,3)"
   ]
  },
  {
   "cell_type": "code",
   "execution_count": null,
   "id": "771811ca-0f5e-4aeb-be53-d2b0b57f528f",
   "metadata": {},
   "outputs": [],
   "source": []
  }
 ],
 "metadata": {
  "kernelspec": {
   "display_name": "Python 3 (ipykernel)",
   "language": "python",
   "name": "python3"
  },
  "language_info": {
   "codemirror_mode": {
    "name": "ipython",
    "version": 3
   },
   "file_extension": ".py",
   "mimetype": "text/x-python",
   "name": "python",
   "nbconvert_exporter": "python",
   "pygments_lexer": "ipython3",
   "version": "3.10.12"
  }
 },
 "nbformat": 4,
 "nbformat_minor": 5
}
