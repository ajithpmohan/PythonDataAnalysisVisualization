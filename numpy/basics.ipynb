{
 "cells": [
  {
   "cell_type": "markdown",
   "id": "8ef30ad9",
   "metadata": {},
   "source": [
    "## NumPy"
   ]
  },
  {
   "cell_type": "markdown",
   "id": "c6ac352c",
   "metadata": {},
   "source": [
    "#### NumPy is a Python library for numerical computations and is often used for tasks involving arrays, matrices and mathematical operation"
   ]
  },
  {
   "cell_type": "markdown",
   "id": "e0abf581",
   "metadata": {},
   "source": [
    "##### $ pip install numpy"
   ]
  },
  {
   "cell_type": "code",
   "execution_count": null,
   "id": "d374f5ae-0126-415b-827d-181875b5cbfc",
   "metadata": {},
   "outputs": [],
   "source": [
    "import numpy as np"
   ]
  },
  {
   "cell_type": "code",
   "execution_count": null,
   "id": "1c5f7b7e-fa99-4c11-9c17-84303dff8b02",
   "metadata": {},
   "outputs": [],
   "source": [
    "kanto = np.array([73, 67, 43])"
   ]
  },
  {
   "cell_type": "code",
   "execution_count": null,
   "id": "fa4980e9-445a-43a9-b49f-82fd92988c59",
   "metadata": {},
   "outputs": [],
   "source": [
    "weights = np.array([0.3, 0.2, 0.5])"
   ]
  },
  {
   "cell_type": "code",
   "execution_count": null,
   "id": "7870f3bf-9c8f-4b06-9097-f5a527229e7e",
   "metadata": {},
   "outputs": [
    {
     "data": {
      "text/plain": [
       "(3,)"
      ]
     },
     "execution_count": 414,
     "metadata": {},
     "output_type": "execute_result"
    }
   ],
   "source": [
    "weights.shape"
   ]
  },
  {
   "cell_type": "markdown",
   "id": "7306e70d-18e5-46f1-9395-da420ef42b6b",
   "metadata": {},
   "source": [
    "### Dot Product"
   ]
  },
  {
   "cell_type": "code",
   "execution_count": null,
   "id": "2c85d073-fac9-496b-a323-6ce80e7a2be2",
   "metadata": {},
   "outputs": [
    {
     "data": {
      "text/plain": [
       "56.8"
      ]
     },
     "execution_count": 415,
     "metadata": {},
     "output_type": "execute_result"
    }
   ],
   "source": [
    "np.dot(kanto, weights)"
   ]
  },
  {
   "cell_type": "code",
   "execution_count": null,
   "id": "fc35e78b-ca8a-4e0a-8f32-42781277a36b",
   "metadata": {},
   "outputs": [
    {
     "data": {
      "text/plain": [
       "56.8"
      ]
     },
     "execution_count": 416,
     "metadata": {},
     "output_type": "execute_result"
    }
   ],
   "source": [
    "(kanto * weights).sum()"
   ]
  },
  {
   "cell_type": "markdown",
   "id": "ee38879e-a7d2-4967-8b25-1ea1f37e6d9d",
   "metadata": {},
   "source": [
    "### 3-D Array"
   ]
  },
  {
   "cell_type": "code",
   "execution_count": null,
   "id": "e944e643-ce1f-4740-84b6-02867e5ebc43",
   "metadata": {},
   "outputs": [],
   "source": [
    "array_3d = np.array([\n",
    "    [\n",
    "        [1, 2, 3, 4], [5, 6, 7, 8]\n",
    "    ],\n",
    "    [\n",
    "        [9, 10, 11, 12], [13,14, 15, 16],\n",
    "    ],\n",
    "    [\n",
    "        [17, 18, 19, 20], [21, 22, 23, 24]\n",
    "    ]\n",
    "])"
   ]
  },
  {
   "cell_type": "code",
   "execution_count": null,
   "id": "cceb06f5-1856-4f11-8550-ad6010c88d9f",
   "metadata": {},
   "outputs": [
    {
     "data": {
      "text/plain": [
       "array([[[ 1,  2,  3,  4],\n",
       "        [ 5,  6,  7,  8]],\n",
       "\n",
       "       [[ 9, 10, 11, 12],\n",
       "        [13, 14, 15, 16]],\n",
       "\n",
       "       [[17, 18, 19, 20],\n",
       "        [21, 22, 23, 24]]])"
      ]
     },
     "execution_count": 418,
     "metadata": {},
     "output_type": "execute_result"
    }
   ],
   "source": [
    "array_3d"
   ]
  },
  {
   "cell_type": "code",
   "execution_count": null,
   "id": "d27aa71f-13db-45a2-9a42-a62fa34f0390",
   "metadata": {},
   "outputs": [
    {
     "data": {
      "text/plain": [
       "(3, 2, 4)"
      ]
     },
     "execution_count": 419,
     "metadata": {},
     "output_type": "execute_result"
    }
   ],
   "source": [
    "array_3d.shape"
   ]
  },
  {
   "cell_type": "code",
   "execution_count": null,
   "id": "f343dc03-de7c-4159-abdd-19fd6f6ba1a1",
   "metadata": {},
   "outputs": [
    {
     "data": {
      "text/plain": [
       "dtype('int64')"
      ]
     },
     "execution_count": 420,
     "metadata": {},
     "output_type": "execute_result"
    }
   ],
   "source": [
    "array_3d.dtype"
   ]
  },
  {
   "cell_type": "markdown",
   "id": "5797887c-eaa7-4f32-8b7d-c5f4aa818002",
   "metadata": {},
   "source": [
    "### MATRIX MULTIPLICATION"
   ]
  },
  {
   "cell_type": "markdown",
   "id": "a5e38a8c-8ce7-4430-bafb-94bbff1a689e",
   "metadata": {},
   "source": [
    "#### climate_data = np.array([temperature, rainfall, humidity])"
   ]
  },
  {
   "cell_type": "code",
   "execution_count": null,
   "id": "5f8d0497-f4af-4667-83d1-ef48751cbb0e",
   "metadata": {},
   "outputs": [],
   "source": [
    "climate_data = np.array([\n",
    "    [73, 67, 43],\n",
    "    [91, 88, 64],\n",
    "    [87, 134, 58],\n",
    "    [102, 43, 37],\n",
    "    [69, 96, 70],\n",
    "])"
   ]
  },
  {
   "cell_type": "code",
   "execution_count": null,
   "id": "b17f969c-cb5e-459b-87ea-5ec12d11c5e0",
   "metadata": {
    "scrolled": true
   },
   "outputs": [
    {
     "data": {
      "text/plain": [
       "array([[ 73,  67,  43],\n",
       "       [ 91,  88,  64],\n",
       "       [ 87, 134,  58],\n",
       "       [102,  43,  37],\n",
       "       [ 69,  96,  70]])"
      ]
     },
     "execution_count": 422,
     "metadata": {},
     "output_type": "execute_result"
    }
   ],
   "source": [
    "climate_data"
   ]
  },
  {
   "cell_type": "code",
   "execution_count": null,
   "id": "10d0eb76-501e-421a-9eaf-bd06352847d8",
   "metadata": {},
   "outputs": [
    {
     "data": {
      "text/plain": [
       "(5, 3)"
      ]
     },
     "execution_count": 423,
     "metadata": {},
     "output_type": "execute_result"
    }
   ],
   "source": [
    "climate_data.shape"
   ]
  },
  {
   "cell_type": "code",
   "execution_count": null,
   "id": "6be4c94e-1341-449c-be98-76fd86278df0",
   "metadata": {},
   "outputs": [
    {
     "data": {
      "text/plain": [
       "array([0.3, 0.2, 0.5])"
      ]
     },
     "execution_count": 424,
     "metadata": {},
     "output_type": "execute_result"
    }
   ],
   "source": [
    "weights"
   ]
  },
  {
   "cell_type": "markdown",
   "id": "3b3e4803-38a2-4cd2-a1d2-ada25c06b405",
   "metadata": {},
   "source": [
    "##### Matrix Multiplication"
   ]
  },
  {
   "cell_type": "code",
   "execution_count": null,
   "id": "c3522b61-f5b1-4a24-bab7-c9522507ec97",
   "metadata": {},
   "outputs": [
    {
     "data": {
      "text/plain": [
       "array([56.8, 76.9, 81.9, 57.7, 74.9])"
      ]
     },
     "execution_count": 425,
     "metadata": {},
     "output_type": "execute_result"
    }
   ],
   "source": [
    "np.matmul(climate_data, weights)"
   ]
  },
  {
   "cell_type": "markdown",
   "id": "59e3d02f-b6a8-42d8-999f-a4d99d07860e",
   "metadata": {},
   "source": [
    "##### Matrix Multiplication - Another Method"
   ]
  },
  {
   "cell_type": "code",
   "execution_count": null,
   "id": "b6ce46ed-a49a-4c79-b260-66d2b4002756",
   "metadata": {},
   "outputs": [],
   "source": [
    "climate_results = climate_data @ weights"
   ]
  },
  {
   "cell_type": "code",
   "execution_count": null,
   "id": "41dfb786-67c0-4818-a32a-c1e4d126dca7",
   "metadata": {},
   "outputs": [
    {
     "data": {
      "text/plain": [
       "array([56.8, 76.9, 81.9, 57.7, 74.9])"
      ]
     },
     "execution_count": 427,
     "metadata": {},
     "output_type": "execute_result"
    }
   ],
   "source": [
    "climate_results"
   ]
  },
  {
   "cell_type": "markdown",
   "id": "2d345ea8-3772-46bb-bc23-a418d97f96a2",
   "metadata": {},
   "source": [
    "##### Reshape Data"
   ]
  },
  {
   "cell_type": "code",
   "execution_count": null,
   "id": "502058d9-5334-4a0f-976e-fe01fac8d948",
   "metadata": {},
   "outputs": [
    {
     "data": {
      "text/plain": [
       "array([[56.8],\n",
       "       [76.9],\n",
       "       [81.9],\n",
       "       [57.7],\n",
       "       [74.9]])"
      ]
     },
     "execution_count": 428,
     "metadata": {},
     "output_type": "execute_result"
    }
   ],
   "source": [
    "climate_results.reshape(climate_results.shape[0], 1)"
   ]
  },
  {
   "cell_type": "code",
   "execution_count": null,
   "id": "6af8f8f0-511f-416d-8871-9cd5a5d7349a",
   "metadata": {},
   "outputs": [],
   "source": [
    "#np.concatenate & np.savetxt"
   ]
  },
  {
   "cell_type": "markdown",
   "id": "1acd17fb-6427-401c-b999-65de87d70ce2",
   "metadata": {},
   "source": [
    "### Numpy Arithmetic Operation"
   ]
  },
  {
   "cell_type": "code",
   "execution_count": null,
   "id": "aac1cc05-4ea8-40ba-8810-1854f033a598",
   "metadata": {},
   "outputs": [],
   "source": [
    "arr1 = np.array([\n",
    "    [1,2,3],\n",
    "    [4,5,6]\n",
    "])"
   ]
  },
  {
   "cell_type": "code",
   "execution_count": null,
   "id": "0947ee3d-72ab-496f-bb03-01b12adc9dfc",
   "metadata": {},
   "outputs": [],
   "source": [
    "arr2 = np.array([\n",
    "    [11,12,13],\n",
    "    [14,15,16]\n",
    "])"
   ]
  },
  {
   "cell_type": "markdown",
   "id": "a240da7e-e579-4e8e-bc5e-1db707f782e3",
   "metadata": {},
   "source": [
    "#### Array Addition"
   ]
  },
  {
   "cell_type": "code",
   "execution_count": null,
   "id": "1a206cdd-c4ed-45b0-bda2-dc22003ce6fc",
   "metadata": {},
   "outputs": [
    {
     "data": {
      "text/plain": [
       "array([[12, 14, 16],\n",
       "       [18, 20, 22]])"
      ]
     },
     "execution_count": 432,
     "metadata": {},
     "output_type": "execute_result"
    }
   ],
   "source": [
    "np.add(arr1, arr2)"
   ]
  },
  {
   "cell_type": "code",
   "execution_count": null,
   "id": "e84f6f78-ff02-4b54-9ba8-653a9c641422",
   "metadata": {},
   "outputs": [
    {
     "data": {
      "text/plain": [
       "array([[12, 14, 16],\n",
       "       [18, 20, 22]])"
      ]
     },
     "execution_count": 433,
     "metadata": {},
     "output_type": "execute_result"
    }
   ],
   "source": [
    "arr1 + arr2"
   ]
  },
  {
   "cell_type": "markdown",
   "id": "b8c06b1e-31ec-41af-87b9-8133838bfc1a",
   "metadata": {},
   "source": [
    "#### Array Subtraction"
   ]
  },
  {
   "cell_type": "code",
   "execution_count": null,
   "id": "3c012ab7-0117-4648-b316-d41142642f4a",
   "metadata": {},
   "outputs": [
    {
     "data": {
      "text/plain": [
       "array([[10, 10, 10],\n",
       "       [10, 10, 10]])"
      ]
     },
     "execution_count": 434,
     "metadata": {},
     "output_type": "execute_result"
    }
   ],
   "source": [
    "np.subtract(arr2, arr1)"
   ]
  },
  {
   "cell_type": "code",
   "execution_count": null,
   "id": "a7883fb3-474d-45b5-b0a7-7b052438a574",
   "metadata": {},
   "outputs": [
    {
     "data": {
      "text/plain": [
       "array([[10, 10, 10],\n",
       "       [10, 10, 10]])"
      ]
     },
     "execution_count": 435,
     "metadata": {},
     "output_type": "execute_result"
    }
   ],
   "source": [
    "arr2 - arr1"
   ]
  },
  {
   "cell_type": "markdown",
   "id": "7848e5bd-7238-4219-b9e2-955a470b2005",
   "metadata": {},
   "source": [
    "#### Array Multiplication"
   ]
  },
  {
   "cell_type": "code",
   "execution_count": null,
   "id": "c7781ddd-b586-41b0-8d57-42c9fa95d5e3",
   "metadata": {},
   "outputs": [
    {
     "data": {
      "text/plain": [
       "array([[11, 24, 39],\n",
       "       [56, 75, 96]])"
      ]
     },
     "execution_count": 436,
     "metadata": {},
     "output_type": "execute_result"
    }
   ],
   "source": [
    "np.multiply(arr1, arr2)"
   ]
  },
  {
   "cell_type": "code",
   "execution_count": null,
   "id": "b30dfd28-7ba3-4eac-a325-2b30594ae9eb",
   "metadata": {},
   "outputs": [
    {
     "data": {
      "text/plain": [
       "array([[11, 24, 39],\n",
       "       [56, 75, 96]])"
      ]
     },
     "execution_count": 437,
     "metadata": {},
     "output_type": "execute_result"
    }
   ],
   "source": [
    "arr1 * arr2"
   ]
  },
  {
   "cell_type": "markdown",
   "id": "49fd1b1d-c817-40e0-97c2-aa48be779aaa",
   "metadata": {},
   "source": [
    "#### Array Division"
   ]
  },
  {
   "cell_type": "code",
   "execution_count": null,
   "id": "63431e82-56e5-4fc4-94e1-a8333ebf1efd",
   "metadata": {},
   "outputs": [
    {
     "data": {
      "text/plain": [
       "array([[0.5, 1. , 1.5],\n",
       "       [2. , 2.5, 3. ]])"
      ]
     },
     "execution_count": 438,
     "metadata": {},
     "output_type": "execute_result"
    }
   ],
   "source": [
    "np.divide(arr1, 2)"
   ]
  },
  {
   "cell_type": "code",
   "execution_count": null,
   "id": "ea26bbb4-dc75-4128-b49f-921f12c4d2d6",
   "metadata": {},
   "outputs": [
    {
     "data": {
      "text/plain": [
       "array([[0.5, 1. , 1.5],\n",
       "       [2. , 2.5, 3. ]])"
      ]
     },
     "execution_count": 439,
     "metadata": {},
     "output_type": "execute_result"
    }
   ],
   "source": [
    "arr1 / 2 "
   ]
  },
  {
   "cell_type": "markdown",
   "id": "aeb24d75-8df8-4a70-bf5a-9fd88652a2a5",
   "metadata": {},
   "source": [
    "#### Array Mode"
   ]
  },
  {
   "cell_type": "code",
   "execution_count": null,
   "id": "6076bd6a-9e8c-4446-b36a-2dec3d64c41d",
   "metadata": {},
   "outputs": [
    {
     "data": {
      "text/plain": [
       "array([[1, 0, 1],\n",
       "       [0, 1, 0]])"
      ]
     },
     "execution_count": 440,
     "metadata": {},
     "output_type": "execute_result"
    }
   ],
   "source": [
    "np.mod(arr1,2)"
   ]
  },
  {
   "cell_type": "code",
   "execution_count": null,
   "id": "ee9fd93d-c484-41fe-999c-19388f14680a",
   "metadata": {},
   "outputs": [
    {
     "data": {
      "text/plain": [
       "array([[1, 0, 1],\n",
       "       [0, 1, 0]])"
      ]
     },
     "execution_count": 441,
     "metadata": {},
     "output_type": "execute_result"
    }
   ],
   "source": [
    "arr1 % 2"
   ]
  },
  {
   "cell_type": "markdown",
   "id": "948216d3-bce0-4626-9fac-447fa82f50f4",
   "metadata": {},
   "source": [
    "#### Array Power"
   ]
  },
  {
   "cell_type": "code",
   "execution_count": null,
   "id": "5a8cf355-6a7b-40f9-ac8d-a649546d362a",
   "metadata": {},
   "outputs": [
    {
     "data": {
      "text/plain": [
       "array([[ 1,  4,  9],\n",
       "       [16, 25, 36]])"
      ]
     },
     "execution_count": 442,
     "metadata": {},
     "output_type": "execute_result"
    }
   ],
   "source": [
    "np.power(arr1, 2)"
   ]
  },
  {
   "cell_type": "code",
   "execution_count": null,
   "id": "f1d76f31-86d1-4526-ad6a-3cceb97af121",
   "metadata": {},
   "outputs": [
    {
     "data": {
      "text/plain": [
       "array([[ 1,  4,  9],\n",
       "       [16, 25, 36]])"
      ]
     },
     "execution_count": 443,
     "metadata": {},
     "output_type": "execute_result"
    }
   ],
   "source": [
    "arr1 ** 2 "
   ]
  },
  {
   "cell_type": "markdown",
   "id": "ea622cdf-8706-4aae-8f5e-7a8f158c934e",
   "metadata": {},
   "source": [
    "### Numpy Array Broadcasting"
   ]
  },
  {
   "cell_type": "code",
   "execution_count": null,
   "id": "78b06235-6fd2-4fc5-9876-167c460350e9",
   "metadata": {},
   "outputs": [],
   "source": [
    "arr1 = np.array([\n",
    "    [1,2,3],\n",
    "    [4,5,6]\n",
    "])"
   ]
  },
  {
   "cell_type": "code",
   "execution_count": null,
   "id": "9d46c6cb-4544-4bb1-a250-48109ff4e9e6",
   "metadata": {},
   "outputs": [],
   "source": [
    "arr2 = np.array([\n",
    "    [11,12,13]\n",
    "])"
   ]
  },
  {
   "cell_type": "markdown",
   "id": "7c8ce17d-bd48-4665-add9-2337a61ce6c7",
   "metadata": {},
   "source": [
    "##### When we try to add arr1 + arr2, before doing this numpy replicate arr2 from np.array([ [11,12,13] ]) to np.array([ [11,12,13], [11,12,13] ]). This is called array broadcasting. Broadcasting only works if one of the arrays can be replicated to exactly match the shape of the other array."
   ]
  },
  {
   "cell_type": "code",
   "execution_count": null,
   "id": "3bc44f8e-c649-4d34-aa27-5c0a054ffbda",
   "metadata": {},
   "outputs": [
    {
     "data": {
      "text/plain": [
       "array([[12, 14, 16],\n",
       "       [15, 17, 19]])"
      ]
     },
     "execution_count": 446,
     "metadata": {},
     "output_type": "execute_result"
    }
   ],
   "source": [
    "arr1 + arr2"
   ]
  },
  {
   "cell_type": "markdown",
   "id": "4dd48eb6-5773-4b46-8dd2-d5f3b9307948",
   "metadata": {},
   "source": [
    "### Array Comparison"
   ]
  },
  {
   "cell_type": "code",
   "execution_count": null,
   "id": "4c928164-4b3e-4e55-9eff-1394242fce69",
   "metadata": {},
   "outputs": [],
   "source": [
    "arr1 = np.array([\n",
    "    [1,2,3], [4,5,6],\n",
    "])"
   ]
  },
  {
   "cell_type": "code",
   "execution_count": null,
   "id": "15206a56-739c-404f-9533-71d5c1315086",
   "metadata": {},
   "outputs": [],
   "source": [
    "arr2 = np.array([\n",
    "    [1,2,4], [8,9,6]\n",
    "])"
   ]
  },
  {
   "cell_type": "code",
   "execution_count": null,
   "id": "6a113b48-c475-481b-96eb-98b4a6edc3b3",
   "metadata": {},
   "outputs": [
    {
     "data": {
      "text/plain": [
       "array([[ True,  True, False],\n",
       "       [False, False,  True]])"
      ]
     },
     "execution_count": 449,
     "metadata": {},
     "output_type": "execute_result"
    }
   ],
   "source": [
    "arr1 == arr2"
   ]
  },
  {
   "cell_type": "code",
   "execution_count": null,
   "id": "1d668f81-1e0f-4565-ab12-08fb3fbaf6e9",
   "metadata": {},
   "outputs": [
    {
     "data": {
      "text/plain": [
       "array([[False, False,  True],\n",
       "       [ True,  True, False]])"
      ]
     },
     "execution_count": 450,
     "metadata": {},
     "output_type": "execute_result"
    }
   ],
   "source": [
    "arr1 != arr2"
   ]
  },
  {
   "cell_type": "code",
   "execution_count": null,
   "id": "fcf437d6-71ad-4400-b3b8-3f653a59a9e3",
   "metadata": {},
   "outputs": [
    {
     "data": {
      "text/plain": [
       "array([[ True,  True, False],\n",
       "       [False, False,  True]])"
      ]
     },
     "execution_count": 451,
     "metadata": {},
     "output_type": "execute_result"
    }
   ],
   "source": [
    "arr1 >= arr2"
   ]
  },
  {
   "cell_type": "markdown",
   "id": "a686df6d-c512-4111-ae56-0c9f860d8d17",
   "metadata": {},
   "source": [
    "##### Below code consider True as 1 and False as 0"
   ]
  },
  {
   "cell_type": "code",
   "execution_count": null,
   "id": "2f314dfe-2b33-477d-a569-dd65e44d4fd6",
   "metadata": {},
   "outputs": [
    {
     "data": {
      "text/plain": [
       "3"
      ]
     },
     "execution_count": 452,
     "metadata": {},
     "output_type": "execute_result"
    }
   ],
   "source": [
    "(arr1 == arr2).sum()"
   ]
  },
  {
   "cell_type": "markdown",
   "id": "72a33342-3827-45cb-accb-12511e9a4742",
   "metadata": {},
   "source": [
    "### Array Indexing and Slicing"
   ]
  },
  {
   "cell_type": "code",
   "execution_count": null,
   "id": "afa4cdbf-ecc8-4029-bd46-da0f211903f9",
   "metadata": {},
   "outputs": [],
   "source": [
    "arr1 = np.array([\n",
    "    [[1,2,3], [4,5,6]],\n",
    "    [[4,5,6], [7,8,9]],\n",
    "    [[10,11,12], [13,14,15]]\n",
    "])"
   ]
  },
  {
   "cell_type": "code",
   "execution_count": null,
   "id": "d6da6784-6351-480b-9b94-23727a63020c",
   "metadata": {},
   "outputs": [
    {
     "data": {
      "text/plain": [
       "(3, 2, 3)"
      ]
     },
     "execution_count": 454,
     "metadata": {},
     "output_type": "execute_result"
    }
   ],
   "source": [
    "arr1.shape"
   ]
  },
  {
   "cell_type": "code",
   "execution_count": null,
   "id": "f5ad6dad-187b-443f-9b0a-f05015f8801f",
   "metadata": {},
   "outputs": [
    {
     "data": {
      "text/plain": [
       "14"
      ]
     },
     "execution_count": 455,
     "metadata": {},
     "output_type": "execute_result"
    }
   ],
   "source": [
    "# Array Indexing\n",
    "arr1[2,1,1]"
   ]
  },
  {
   "cell_type": "code",
   "execution_count": null,
   "id": "2f7333df-b47a-4a4b-a4c3-9aead43e55c3",
   "metadata": {},
   "outputs": [
    {
     "data": {
      "text/plain": [
       "array([[[ 4,  5]],\n",
       "\n",
       "       [[10, 11]]])"
      ]
     },
     "execution_count": 456,
     "metadata": {},
     "output_type": "execute_result"
    }
   ],
   "source": [
    "# SubArray using ranges\n",
    "arr1[1:,0:1,:2]"
   ]
  },
  {
   "cell_type": "code",
   "execution_count": null,
   "id": "a7151b17-dd00-4cfa-84e3-15bada96c1c2",
   "metadata": {},
   "outputs": [
    {
     "data": {
      "text/plain": [
       "(2, 1, 2)"
      ]
     },
     "execution_count": 457,
     "metadata": {},
     "output_type": "execute_result"
    }
   ],
   "source": [
    "arr1[1:,0:1,:2].shape"
   ]
  },
  {
   "cell_type": "markdown",
   "id": "7cafdea6-f0d2-42a1-b49c-6a3c0126183c",
   "metadata": {},
   "source": [
    "### Special Arrays"
   ]
  },
  {
   "cell_type": "code",
   "execution_count": null,
   "id": "16de3c06-7d57-4ea5-b0c7-9faa3b147d5e",
   "metadata": {},
   "outputs": [
    {
     "data": {
      "text/plain": [
       "array([[0., 0.],\n",
       "       [0., 0.],\n",
       "       [0., 0.]])"
      ]
     },
     "execution_count": 458,
     "metadata": {},
     "output_type": "execute_result"
    }
   ],
   "source": [
    "np.zeros((3,2))"
   ]
  },
  {
   "cell_type": "code",
   "execution_count": null,
   "id": "63e87acb-47ae-49cf-920c-93eecbae1148",
   "metadata": {},
   "outputs": [
    {
     "data": {
      "text/plain": [
       "array([[1., 1., 1., 1.],\n",
       "       [1., 1., 1., 1.]])"
      ]
     },
     "execution_count": 459,
     "metadata": {},
     "output_type": "execute_result"
    }
   ],
   "source": [
    "np.ones((2,4))"
   ]
  },
  {
   "cell_type": "code",
   "execution_count": null,
   "id": "9d03a75b-c0d9-4076-8e63-24ef0696c403",
   "metadata": {},
   "outputs": [
    {
     "data": {
      "text/plain": [
       "array([[1., 0., 0., 0.],\n",
       "       [0., 1., 0., 0.],\n",
       "       [0., 0., 1., 0.],\n",
       "       [0., 0., 0., 1.]])"
      ]
     },
     "execution_count": 460,
     "metadata": {},
     "output_type": "execute_result"
    }
   ],
   "source": [
    "#Identity Matrix\n",
    "np.eye(4)"
   ]
  },
  {
   "cell_type": "code",
   "execution_count": null,
   "id": "83f5439a-1bf8-4db8-96a3-00394a236409",
   "metadata": {},
   "outputs": [],
   "source": []
  },
  {
   "cell_type": "markdown",
   "id": "6f1e2dcf-18a0-4e62-b0f6-8d7cf25dd11e",
   "metadata": {},
   "source": [
    "### Numpy Random function"
   ]
  },
  {
   "cell_type": "code",
   "execution_count": null,
   "id": "9b9669e1-c07b-4261-afad-f0a0aaa4a8c1",
   "metadata": {},
   "outputs": [
    {
     "data": {
      "text/plain": [
       "0.24562064660596727"
      ]
     },
     "execution_count": 461,
     "metadata": {},
     "output_type": "execute_result"
    }
   ],
   "source": [
    "np.random.rand()"
   ]
  },
  {
   "cell_type": "code",
   "execution_count": null,
   "id": "b2368391-3395-46c0-9e62-9e9b7f158962",
   "metadata": {},
   "outputs": [
    {
     "data": {
      "text/plain": [
       "array([[0.66776063, 0.60682596, 0.24875443],\n",
       "       [0.69249825, 0.21927041, 0.41062127],\n",
       "       [0.76231221, 0.29225301, 0.71453811],\n",
       "       [0.63834222, 0.66201616, 0.84354904]])"
      ]
     },
     "execution_count": 462,
     "metadata": {},
     "output_type": "execute_result"
    }
   ],
   "source": [
    "# This is used to generate an array with random value between 0 & 1\n",
    "np.random.rand(4,3)"
   ]
  },
  {
   "cell_type": "markdown",
   "id": "abd82234-f877-4918-9fd6-4adf696cbd26",
   "metadata": {},
   "source": [
    "##### This is used to generate an array with random value between 0 & 1"
   ]
  },
  {
   "cell_type": "code",
   "execution_count": null,
   "id": "a4ddcc17-9a96-4567-94bb-7d667017803b",
   "metadata": {},
   "outputs": [],
   "source": []
  },
  {
   "cell_type": "code",
   "execution_count": null,
   "id": "b02fb194-ee21-41bc-8c7b-9a7e266339a9",
   "metadata": {},
   "outputs": [
    {
     "data": {
      "text/plain": [
       "0.40029287626463733"
      ]
     },
     "execution_count": 463,
     "metadata": {},
     "output_type": "execute_result"
    }
   ],
   "source": [
    "np.random.randn()"
   ]
  },
  {
   "cell_type": "code",
   "execution_count": null,
   "id": "46c631fe-8f3b-4f35-afce-ec98352b68b7",
   "metadata": {},
   "outputs": [
    {
     "data": {
      "text/plain": [
       "array([[ 0.3344239 ,  0.48875289, -0.59805447,  1.70916311],\n",
       "       [ 0.00286524, -0.36583841, -0.10960816, -0.37905876],\n",
       "       [ 0.99203659,  0.62632557, -0.20337062,  0.63400296],\n",
       "       [ 0.59216779, -2.02057522,  0.17840096,  0.55581768],\n",
       "       [-0.47058547, -0.06464062,  0.7901201 ,  0.43319521]])"
      ]
     },
     "execution_count": 464,
     "metadata": {},
     "output_type": "execute_result"
    }
   ],
   "source": [
    "# This function is used to create an array with random values close to zero. This function may return positive or negative number as well\n",
    "np.random.randn(5,4)"
   ]
  },
  {
   "cell_type": "markdown",
   "id": "ecc4956f-1228-4496-a86d-f5da0b38349e",
   "metadata": {},
   "source": [
    "##### This function is used to create an array with random values close to zero. This function may return positive or negative number as well"
   ]
  },
  {
   "cell_type": "code",
   "execution_count": null,
   "id": "0fb303fe-513d-4c1c-81f0-5c0a9f7b502a",
   "metadata": {},
   "outputs": [],
   "source": []
  },
  {
   "cell_type": "code",
   "execution_count": null,
   "id": "adcf4dcb-e3d4-4ccb-9e67-2e3a16cc59a7",
   "metadata": {},
   "outputs": [
    {
     "data": {
      "text/plain": [
       "1"
      ]
     },
     "execution_count": 465,
     "metadata": {},
     "output_type": "execute_result"
    }
   ],
   "source": [
    "np.random.randint(1,4)"
   ]
  },
  {
   "cell_type": "code",
   "execution_count": null,
   "id": "a92ab879-6f46-4c91-b86a-4745e8c25c64",
   "metadata": {},
   "outputs": [
    {
     "data": {
      "text/plain": [
       "array([2, 3, 4, 5, 6, 3, 5, 7])"
      ]
     },
     "execution_count": 466,
     "metadata": {},
     "output_type": "execute_result"
    }
   ],
   "source": [
    "np.random.randint(1,9,8)"
   ]
  },
  {
   "cell_type": "markdown",
   "id": "b3235801-3e6d-4907-9a01-08768da89009",
   "metadata": {},
   "source": [
    "#### This function is used to create an array with random values between given range"
   ]
  },
  {
   "cell_type": "code",
   "execution_count": null,
   "id": "0bd88578",
   "metadata": {},
   "outputs": [],
   "source": []
  },
  {
   "cell_type": "markdown",
   "id": "7a2471e2",
   "metadata": {},
   "source": [
    "##### Random Choice"
   ]
  },
  {
   "cell_type": "code",
   "execution_count": null,
   "id": "774c066e",
   "metadata": {},
   "outputs": [
    {
     "data": {
      "text/plain": [
       "'Product C'"
      ]
     },
     "execution_count": 467,
     "metadata": {},
     "output_type": "execute_result"
    }
   ],
   "source": [
    "np.random.choice(['Product A', 'Product B', 'Product C'])"
   ]
  },
  {
   "cell_type": "code",
   "execution_count": null,
   "id": "fa4d3a9b",
   "metadata": {},
   "outputs": [
    {
     "data": {
      "text/plain": [
       "array(['Product C', 'Product A', 'Product A', 'Product A', 'Product A',\n",
       "       'Product A', 'Product B', 'Product C', 'Product C', 'Product C'],\n",
       "      dtype='<U9')"
      ]
     },
     "execution_count": 468,
     "metadata": {},
     "output_type": "execute_result"
    }
   ],
   "source": [
    "np.random.choice(['Product A', 'Product B', 'Product C'], 10)"
   ]
  },
  {
   "cell_type": "code",
   "execution_count": null,
   "id": "6fe4ca9f",
   "metadata": {},
   "outputs": [],
   "source": []
  },
  {
   "cell_type": "markdown",
   "id": "1cc2ef78-4c0f-49ce-948d-fea586c22c41",
   "metadata": {},
   "source": [
    "### Numpy Range function"
   ]
  },
  {
   "cell_type": "code",
   "execution_count": null,
   "id": "a5efa3f3-ee6f-4710-b9b6-c58a6eea0bef",
   "metadata": {},
   "outputs": [
    {
     "data": {
      "text/plain": [
       "array([10, 13, 16, 19, 22, 25, 28, 31, 34, 37, 40, 43, 46, 49, 52, 55, 58,\n",
       "       61, 64, 67, 70, 73, 76, 79, 82, 85, 88])"
      ]
     },
     "execution_count": 469,
     "metadata": {},
     "output_type": "execute_result"
    }
   ],
   "source": [
    "np.arange(10, 90, 3)"
   ]
  },
  {
   "cell_type": "code",
   "execution_count": null,
   "id": "1f6bafc4-e760-4506-bfef-765518081f10",
   "metadata": {},
   "outputs": [
    {
     "data": {
      "text/plain": [
       "array([[[10, 13, 16],\n",
       "        [19, 22, 25],\n",
       "        [28, 31, 34]],\n",
       "\n",
       "       [[37, 40, 43],\n",
       "        [46, 49, 52],\n",
       "        [55, 58, 61]],\n",
       "\n",
       "       [[64, 67, 70],\n",
       "        [73, 76, 79],\n",
       "        [82, 85, 88]]])"
      ]
     },
     "execution_count": 470,
     "metadata": {},
     "output_type": "execute_result"
    }
   ],
   "source": [
    "# Array Reshape\n",
    "np.arange(10, 90, 3).reshape(3,3,3)"
   ]
  },
  {
   "cell_type": "markdown",
   "id": "f7bc0994-55c6-4c64-ac27-2d0ead5ba17c",
   "metadata": {},
   "source": [
    "### Numpy Arithmetic functions"
   ]
  },
  {
   "cell_type": "code",
   "execution_count": null,
   "id": "f0e147c0-eb4a-4599-a895-377f63d15730",
   "metadata": {},
   "outputs": [],
   "source": [
    "x = np.arange(10, 90, 3)"
   ]
  },
  {
   "cell_type": "code",
   "execution_count": null,
   "id": "6811dc88-ffd2-4ea6-97c0-b78a589cb430",
   "metadata": {},
   "outputs": [],
   "source": [
    "y = np.arange(20, 100, 4).reshape(5, 2, 2)"
   ]
  },
  {
   "cell_type": "code",
   "execution_count": null,
   "id": "62d6293a-3391-417b-9485-b66c1fb2a596",
   "metadata": {},
   "outputs": [
    {
     "data": {
      "text/plain": [
       "array([[[20, 24],\n",
       "        [28, 32]],\n",
       "\n",
       "       [[36, 40],\n",
       "        [44, 48]],\n",
       "\n",
       "       [[52, 56],\n",
       "        [60, 64]],\n",
       "\n",
       "       [[68, 72],\n",
       "        [76, 80]],\n",
       "\n",
       "       [[84, 88],\n",
       "        [92, 96]]])"
      ]
     },
     "execution_count": 473,
     "metadata": {},
     "output_type": "execute_result"
    }
   ],
   "source": [
    "y"
   ]
  },
  {
   "cell_type": "code",
   "execution_count": null,
   "id": "771811ca-0f5e-4aeb-be53-d2b0b57f528f",
   "metadata": {},
   "outputs": [
    {
     "data": {
      "text/plain": [
       "88"
      ]
     },
     "execution_count": 474,
     "metadata": {},
     "output_type": "execute_result"
    }
   ],
   "source": [
    "np.max(x)"
   ]
  },
  {
   "cell_type": "code",
   "execution_count": null,
   "id": "3f7d7870-39a1-486a-b467-4eb97fba5eca",
   "metadata": {},
   "outputs": [
    {
     "data": {
      "text/plain": [
       "96"
      ]
     },
     "execution_count": 475,
     "metadata": {},
     "output_type": "execute_result"
    }
   ],
   "source": [
    "np.max(y)"
   ]
  },
  {
   "cell_type": "code",
   "execution_count": null,
   "id": "91a8a86f-b4e4-4205-8ede-6c5cff582d6d",
   "metadata": {},
   "outputs": [
    {
     "data": {
      "text/plain": [
       "10"
      ]
     },
     "execution_count": 476,
     "metadata": {},
     "output_type": "execute_result"
    }
   ],
   "source": [
    "np.min(x)"
   ]
  },
  {
   "cell_type": "code",
   "execution_count": null,
   "id": "0f906d00-190e-4eda-9164-cec84afa644d",
   "metadata": {},
   "outputs": [
    {
     "data": {
      "text/plain": [
       "20"
      ]
     },
     "execution_count": 477,
     "metadata": {},
     "output_type": "execute_result"
    }
   ],
   "source": [
    "np.min(y)"
   ]
  },
  {
   "cell_type": "code",
   "execution_count": null,
   "id": "32481f2e-c1ae-4fb3-8ab4-1a776c3137e0",
   "metadata": {},
   "outputs": [
    {
     "data": {
      "text/plain": [
       "19"
      ]
     },
     "execution_count": 478,
     "metadata": {},
     "output_type": "execute_result"
    }
   ],
   "source": [
    "np.argmax(y)"
   ]
  },
  {
   "cell_type": "code",
   "execution_count": null,
   "id": "9bb80fd0-ada8-4394-9ec7-289f5a172fd0",
   "metadata": {},
   "outputs": [
    {
     "data": {
      "text/plain": [
       "0"
      ]
     },
     "execution_count": 479,
     "metadata": {},
     "output_type": "execute_result"
    }
   ],
   "source": [
    "np.argmin(y)"
   ]
  },
  {
   "cell_type": "code",
   "execution_count": null,
   "id": "b79faaf0-522c-4799-9d33-75f119ee13f0",
   "metadata": {},
   "outputs": [
    {
     "data": {
      "text/plain": [
       "array([[[ 0.91294525, -0.90557836],\n",
       "        [ 0.27090579,  0.55142668]],\n",
       "\n",
       "       [[-0.99177885,  0.74511316],\n",
       "        [ 0.01770193, -0.76825466]],\n",
       "\n",
       "       [[ 0.98662759, -0.521551  ],\n",
       "        [-0.30481062,  0.92002604]],\n",
       "\n",
       "       [[-0.89792768,  0.25382336],\n",
       "        [ 0.56610764, -0.99388865]],\n",
       "\n",
       "       [[ 0.73319032,  0.0353983 ],\n",
       "        [-0.77946607,  0.98358775]]])"
      ]
     },
     "execution_count": 480,
     "metadata": {},
     "output_type": "execute_result"
    }
   ],
   "source": [
    "np.sin(y)"
   ]
  },
  {
   "cell_type": "code",
   "execution_count": null,
   "id": "d1380796-8d48-4233-bc3a-1a8229473e42",
   "metadata": {},
   "outputs": [
    {
     "data": {
      "text/plain": [
       "array([-0.83907153,  0.90744678, -0.95765948,  0.98870462, -0.99996083,\n",
       "        0.99120281, -0.96260587,  0.91474236, -0.84857027,  0.76541405,\n",
       "       -0.66693806,  0.5551133 , -0.43217794,  0.30059254, -0.16299078,\n",
       "        0.02212676,  0.11918014, -0.25810164,  0.39185723, -0.5177698 ,\n",
       "        0.6333192 , -0.73619272,  0.82433133, -0.89597095,  0.9496777 ,\n",
       "       -0.98437664,  0.99937328])"
      ]
     },
     "execution_count": 481,
     "metadata": {},
     "output_type": "execute_result"
    }
   ],
   "source": [
    "np.cos(x)"
   ]
  },
  {
   "cell_type": "code",
   "execution_count": null,
   "id": "245db6a5-4c21-4fef-92b8-972c9942982a",
   "metadata": {},
   "outputs": [
    {
     "data": {
      "text/plain": [
       "array([[[ 2.23716094, -2.1348967 ],\n",
       "        [-0.2814296 ,  0.66100604]],\n",
       "\n",
       "       [[ 7.75047091, -1.11721493],\n",
       "        [ 0.0177047 ,  1.20012724]],\n",
       "\n",
       "       [[-6.05327238, -0.61127369],\n",
       "        [ 0.32004039,  2.34786031]],\n",
       "\n",
       "       [[-2.0400816 , -0.26241738],\n",
       "        [ 0.68674769,  9.00365495]],\n",
       "\n",
       "       [[-1.07818381,  0.0354205 ],\n",
       "        [ 1.24427006, -5.45134011]]])"
      ]
     },
     "execution_count": 482,
     "metadata": {},
     "output_type": "execute_result"
    }
   ],
   "source": [
    "np.tan(y)"
   ]
  },
  {
   "cell_type": "code",
   "execution_count": null,
   "id": "6753bf04-7183-4e45-81b2-672605eb4b54",
   "metadata": {},
   "outputs": [
    {
     "data": {
      "text/plain": [
       "array([  10,   23,   39,   58,   80,  105,  133,  164,  198,  235,  275,\n",
       "        318,  364,  413,  465,  520,  578,  639,  703,  770,  840,  913,\n",
       "        989, 1068, 1150, 1235, 1323])"
      ]
     },
     "execution_count": 483,
     "metadata": {},
     "output_type": "execute_result"
    }
   ],
   "source": [
    "np.cumsum(x)"
   ]
  },
  {
   "cell_type": "code",
   "execution_count": null,
   "id": "17e9754c",
   "metadata": {},
   "outputs": [
    {
     "data": {
      "text/plain": [
       "array([[[20, 24],\n",
       "        [28, 32]],\n",
       "\n",
       "       [[36, 40],\n",
       "        [44, 48]],\n",
       "\n",
       "       [[52, 56],\n",
       "        [60, 64]],\n",
       "\n",
       "       [[68, 72],\n",
       "        [76, 80]],\n",
       "\n",
       "       [[84, 88],\n",
       "        [92, 96]]])"
      ]
     },
     "execution_count": 484,
     "metadata": {},
     "output_type": "execute_result"
    }
   ],
   "source": [
    "y"
   ]
  },
  {
   "cell_type": "code",
   "execution_count": null,
   "id": "2ef7866b",
   "metadata": {},
   "outputs": [
    {
     "data": {
      "text/plain": [
       "array([  10,   23,   39,   58,   80,  105,  133,  164,  198,  235,  275,\n",
       "        318,  364,  413,  465,  520,  578,  639,  703,  770,  840,  913,\n",
       "        989, 1068, 1150, 1235, 1323])"
      ]
     },
     "execution_count": 485,
     "metadata": {},
     "output_type": "execute_result"
    }
   ],
   "source": [
    "np.cumsum(x)"
   ]
  },
  {
   "cell_type": "code",
   "execution_count": null,
   "id": "dd7213e6",
   "metadata": {},
   "outputs": [
    {
     "data": {
      "text/plain": [
       "array([3.16227766, 3.60555128, 4.        , 4.35889894, 4.69041576,\n",
       "       5.        , 5.29150262, 5.56776436, 5.83095189, 6.08276253,\n",
       "       6.32455532, 6.55743852, 6.78232998, 7.        , 7.21110255,\n",
       "       7.41619849, 7.61577311, 7.81024968, 8.        , 8.18535277,\n",
       "       8.36660027, 8.54400375, 8.71779789, 8.88819442, 9.05538514,\n",
       "       9.21954446, 9.38083152])"
      ]
     },
     "execution_count": 486,
     "metadata": {},
     "output_type": "execute_result"
    }
   ],
   "source": [
    "np.sqrt(x)"
   ]
  },
  {
   "cell_type": "code",
   "execution_count": null,
   "id": "f1b3ed23",
   "metadata": {},
   "outputs": [
    {
     "data": {
      "text/plain": [
       "array([[[4.47213595, 4.89897949],\n",
       "        [5.29150262, 5.65685425]],\n",
       "\n",
       "       [[6.        , 6.32455532],\n",
       "        [6.63324958, 6.92820323]],\n",
       "\n",
       "       [[7.21110255, 7.48331477],\n",
       "        [7.74596669, 8.        ]],\n",
       "\n",
       "       [[8.24621125, 8.48528137],\n",
       "        [8.71779789, 8.94427191]],\n",
       "\n",
       "       [[9.16515139, 9.38083152],\n",
       "        [9.59166305, 9.79795897]]])"
      ]
     },
     "execution_count": 487,
     "metadata": {},
     "output_type": "execute_result"
    }
   ],
   "source": [
    "np.sqrt(y)"
   ]
  },
  {
   "cell_type": "code",
   "execution_count": null,
   "id": "f4c3ce56",
   "metadata": {},
   "outputs": [],
   "source": []
  }
 ],
 "metadata": {
  "kernelspec": {
   "display_name": "Python 3 (ipykernel)",
   "language": "python",
   "name": "python3"
  },
  "language_info": {
   "codemirror_mode": {
    "name": "ipython",
    "version": 3
   },
   "file_extension": ".py",
   "mimetype": "text/x-python",
   "name": "python",
   "nbconvert_exporter": "python",
   "pygments_lexer": "ipython3",
   "version": "3.10.12"
  }
 },
 "nbformat": 4,
 "nbformat_minor": 5
}
